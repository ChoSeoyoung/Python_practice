{
 "cells": [
  {
   "cell_type": "markdown",
   "id": "35735fe9",
   "metadata": {},
   "source": [
    "# 외부파일 읽기"
   ]
  },
  {
   "cell_type": "markdown",
   "id": "b2b8d69c",
   "metadata": {},
   "source": [
    "## csv파일"
   ]
  },
  {
   "cell_type": "markdown",
   "id": "6f1cbd50",
   "metadata": {},
   "source": [
    "### 예제 2-1. csv파일 읽어오기"
   ]
  },
  {
   "cell_type": "code",
   "execution_count": 1,
   "id": "3fe3edc2",
   "metadata": {},
   "outputs": [
    {
     "name": "stdout",
     "output_type": "stream",
     "text": [
      "   c0  c1  c2  c3\n",
      "0   0   1   4   7\n",
      "1   1   2   5   8\n",
      "2   2   3   6   9\n",
      "\n",
      "\n",
      "    0   1   2   3\n",
      "0  c0  c1  c2  c3\n",
      "1   0   1   4   7\n",
      "2   1   2   5   8\n",
      "3   2   3   6   9\n",
      "\n",
      "\n",
      "   c0  c1  c2  c3\n",
      "0   0   1   4   7\n",
      "1   1   2   5   8\n",
      "2   2   3   6   9\n",
      "\n",
      "\n",
      "    c1  c2  c3\n",
      "c0            \n",
      "0    1   4   7\n",
      "1    2   5   8\n",
      "2    3   6   9\n",
      "\n",
      "\n"
     ]
    }
   ],
   "source": [
    "#라이브러리 불러오기\n",
    "import pandas as pd\n",
    "\n",
    "#read_csv()함수로 데이터프레임 변환. 변수 df1에 저장.\n",
    "df1=pd.read_csv('read_csv_sample.csv')\n",
    "print(df1)\n",
    "print('\\n')\n",
    "\n",
    "#read_csv()함수로 데이터프레임 변환. 변수 df2에 저장. header=None옵션 사용\n",
    "df2=pd.read_csv('read_csv_sample.csv',header=None)\n",
    "print(df2)\n",
    "print('\\n')\n",
    "\n",
    "#read_csv()함수로 데이터프레임 변환. 변수 df3에 저장. index_col=None옵션 사용\n",
    "df3=pd.read_csv('read_csv_sample.csv',index_col=None)\n",
    "print(df3)\n",
    "print('\\n')\n",
    "\n",
    "#read_csv()함수로 데이터프레임 변환. 변수 df4에 저장. index_col='c0'옵션 사용, 'c0'가 인덱스로 지정됨\n",
    "df4=pd.read_csv('read_csv_sample.csv',index_col='c0')\n",
    "print(df4)\n",
    "print('\\n')"
   ]
  },
  {
   "cell_type": "markdown",
   "id": "360c3802",
   "metadata": {},
   "source": [
    "## Excel파일"
   ]
  },
  {
   "cell_type": "markdown",
   "id": "4cfcdf13",
   "metadata": {},
   "source": [
    "### 예제 2-2. Excel파일 읽어오기"
   ]
  },
  {
   "cell_type": "code",
   "execution_count": 2,
   "id": "228928fc",
   "metadata": {},
   "outputs": [
    {
     "name": "stdout",
     "output_type": "stream",
     "text": [
      "  전력량 (억㎾h) 발전 전력별  1990  1991  1992  1993  1994  1995  1996  1997  ...  2007  \\\n",
      "0        남한     합계  1077  1186  1310  1444  1650  1847  2055  2244  ...  4031   \n",
      "1       NaN     수력    64    51    49    60    41    55    52    54  ...    50   \n",
      "2       NaN     화력   484   573   696   803  1022  1122  1264  1420  ...  2551   \n",
      "3       NaN    원자력   529   563   565   581   587   670   739   771  ...  1429   \n",
      "4       NaN    신재생     -     -     -     -     -     -     -     -  ...     -   \n",
      "5        북한     합계   277   263   247   221   231   230   213   193  ...   236   \n",
      "6       NaN     수력   156   150   142   133   138   142   125   107  ...   133   \n",
      "7       NaN     화력   121   113   105    88    93    88    88    86  ...   103   \n",
      "8       NaN    원자력     -     -     -     -     -     -     -     -  ...     -   \n",
      "\n",
      "   2008  2009  2010  2011  2012  2013  2014  2015  2016  \n",
      "0  4224  4336  4747  4969  5096  5171  5220  5281  5404  \n",
      "1    56    56    65    78    77    84    78    58    66  \n",
      "2  2658  2802  3196  3343  3430  3581  3427  3402  3523  \n",
      "3  1510  1478  1486  1547  1503  1388  1564  1648  1620  \n",
      "4     -     -     -     -    86   118   151   173   195  \n",
      "5   255   235   237   211   215   221   216   190   239  \n",
      "6   141   125   134   132   135   139   130   100   128  \n",
      "7   114   110   103    79    80    82    86    90   111  \n",
      "8     -     -     -     -     -     -     -     -     -  \n",
      "\n",
      "[9 rows x 29 columns]\n",
      "\n",
      "\n",
      "          0       1     2     3     4     5     6     7     8     9   ...  \\\n",
      "0  전력량 (억㎾h)  발전 전력별  1990  1991  1992  1993  1994  1995  1996  1997  ...   \n",
      "1         남한      합계  1077  1186  1310  1444  1650  1847  2055  2244  ...   \n",
      "2        NaN      수력    64    51    49    60    41    55    52    54  ...   \n",
      "3        NaN      화력   484   573   696   803  1022  1122  1264  1420  ...   \n",
      "4        NaN     원자력   529   563   565   581   587   670   739   771  ...   \n",
      "5        NaN     신재생     -     -     -     -     -     -     -     -  ...   \n",
      "6         북한      합계   277   263   247   221   231   230   213   193  ...   \n",
      "7        NaN      수력   156   150   142   133   138   142   125   107  ...   \n",
      "8        NaN      화력   121   113   105    88    93    88    88    86  ...   \n",
      "9        NaN     원자력     -     -     -     -     -     -     -     -  ...   \n",
      "\n",
      "     19    20    21    22    23    24    25    26    27    28  \n",
      "0  2007  2008  2009  2010  2011  2012  2013  2014  2015  2016  \n",
      "1  4031  4224  4336  4747  4969  5096  5171  5220  5281  5404  \n",
      "2    50    56    56    65    78    77    84    78    58    66  \n",
      "3  2551  2658  2802  3196  3343  3430  3581  3427  3402  3523  \n",
      "4  1429  1510  1478  1486  1547  1503  1388  1564  1648  1620  \n",
      "5     -     -     -     -     -    86   118   151   173   195  \n",
      "6   236   255   235   237   211   215   221   216   190   239  \n",
      "7   133   141   125   134   132   135   139   130   100   128  \n",
      "8   103   114   110   103    79    80    82    86    90   111  \n",
      "9     -     -     -     -     -     -     -     -     -     -  \n",
      "\n",
      "[10 rows x 29 columns]\n"
     ]
    }
   ],
   "source": [
    "import pandas as pd\n",
    "\n",
    "#read_excel() 함수로 데이터프레임 변환\n",
    "df1=pd.read_excel('남북한발전전력량.xlsx')\n",
    "df2=pd.read_excel('남북한발전전력량.xlsx',header=None)\n",
    "print(df1)\n",
    "print('\\n')\n",
    "print(df2)"
   ]
  },
  {
   "cell_type": "markdown",
   "id": "928404b3",
   "metadata": {},
   "source": [
    "## JSON 파일"
   ]
  },
  {
   "cell_type": "markdown",
   "id": "013ef97a",
   "metadata": {},
   "source": [
    "### 예제2-3. JSON파일 읽기"
   ]
  },
  {
   "cell_type": "code",
   "execution_count": 3,
   "id": "4a16f157",
   "metadata": {},
   "outputs": [
    {
     "name": "stdout",
     "output_type": "stream",
     "text": [
      "           name  year        developer opensource\n",
      "pandas           2008    Wes Mckinneye       True\n",
      "NumPy            2006  Travis Oliphant       True\n",
      "matplotlib       2003   John D. Hunter       True\n",
      "\n",
      "\n",
      "Index(['pandas', 'NumPy', 'matplotlib'], dtype='object')\n"
     ]
    }
   ],
   "source": [
    "import pandas as pd\n",
    "\n",
    "df=pd.read_json('read_json_sample.json')\n",
    "print(df)\n",
    "print('\\n')\n",
    "print(df.index)"
   ]
  },
  {
   "cell_type": "markdown",
   "id": "dffc37d6",
   "metadata": {},
   "source": [
    "## 웹(web)에서 가져오기"
   ]
  },
  {
   "cell_type": "markdown",
   "id": "9cc6b9de",
   "metadata": {},
   "source": [
    "### 예제2-4. 웹에서 표 정보 읽기"
   ]
  },
  {
   "cell_type": "code",
   "execution_count": 6,
   "id": "c703565b",
   "metadata": {},
   "outputs": [
    {
     "name": "stdout",
     "output_type": "stream",
     "text": [
      "2\n",
      "tables[0]\n",
      "   Unnamed: 0  c0  c1  c2  c3\n",
      "0           0   0   1   4   7\n",
      "1           1   1   2   5   8\n",
      "2           2   2   3   6   9\n",
      "\n",
      "\n",
      "tables[1]\n",
      "         name  year        developer  opensource\n",
      "0       NumPy  2006  Travis Oliphant        True\n",
      "1  matplotlib  2003   John D. Hunter        True\n",
      "2      pandas  2008    Wes Mckinneye        True\n",
      "\n",
      "\n",
      "            year        developer  opensource\n",
      "name                                         \n",
      "NumPy       2006  Travis Oliphant        True\n",
      "matplotlib  2003   John D. Hunter        True\n",
      "pandas      2008    Wes Mckinneye        True\n"
     ]
    }
   ],
   "source": [
    "import pandas as pd\n",
    "\n",
    "tables=pd.read_html('sample.html')\n",
    "\n",
    "print(len(tables))\n",
    "for i in range(len(tables)):\n",
    "    print(\"tables[%s]\"%i)\n",
    "    print(tables[i])\n",
    "    print('\\n')\n",
    "    \n",
    "# 파이썬 패키지 정보가 들어 있는 두 번째 데이터프레임을 선택하여 df변수에 저장\n",
    "df = tables[1]\n",
    "\n",
    "#'name'열을 인덱스로 지정\n",
    "df.set_index('name',inplace=True)\n",
    "print(df)"
   ]
  },
  {
   "cell_type": "markdown",
   "id": "2dfcb508",
   "metadata": {},
   "source": [
    "# 웹(web)에서 가져오기\n",
    "* BeautifulSoup 등 웹 스크래핑(scraping) 도구로 수집한 내용을 파이썬 리스트, 딕셔너리 등으로 저장하고, DataFrame()함수에 리스트/딕셔너리 형태로 전달하여 데이터프레임으로 변환함"
   ]
  },
  {
   "cell_type": "code",
   "execution_count": 7,
   "id": "7ed232da",
   "metadata": {},
   "outputs": [
    {
     "name": "stdout",
     "output_type": "stream",
     "text": [
      "Collecting BeautifulSoup\n",
      "  Downloading BeautifulSoup-3.2.2.tar.gz (32 kB)\n",
      "  Downloading BeautifulSoup-3.2.1.tar.gz (31 kB)\n",
      "  Downloading BeautifulSoup-3.2.0.tar.gz (31 kB)\n"
     ]
    },
    {
     "name": "stderr",
     "output_type": "stream",
     "text": [
      "    ERROR: Command errored out with exit status 1:\n",
      "     command: 'C:\\ProgramData\\Anaconda3\\python.exe' -c 'import sys, setuptools, tokenize; sys.argv[0] = '\"'\"'C:\\\\Users\\\\Cho\\\\AppData\\\\Local\\\\Temp\\\\pip-install-fkynwk2m\\\\beautifulsoup_bbc1c04a4f6d438bbeefe6a27d5f5ae1\\\\setup.py'\"'\"'; __file__='\"'\"'C:\\\\Users\\\\Cho\\\\AppData\\\\Local\\\\Temp\\\\pip-install-fkynwk2m\\\\beautifulsoup_bbc1c04a4f6d438bbeefe6a27d5f5ae1\\\\setup.py'\"'\"';f=getattr(tokenize, '\"'\"'open'\"'\"', open)(__file__);code=f.read().replace('\"'\"'\\r\\n'\"'\"', '\"'\"'\\n'\"'\"');f.close();exec(compile(code, __file__, '\"'\"'exec'\"'\"'))' egg_info --egg-base 'C:\\Users\\Cho\\AppData\\Local\\Temp\\pip-pip-egg-info-0ey5nq8d'\n",
      "         cwd: C:\\Users\\Cho\\AppData\\Local\\Temp\\pip-install-fkynwk2m\\beautifulsoup_bbc1c04a4f6d438bbeefe6a27d5f5ae1\\\n",
      "    Complete output (6 lines):\n",
      "    Traceback (most recent call last):\n",
      "      File \"<string>\", line 1, in <module>\n",
      "      File \"C:\\Users\\Cho\\AppData\\Local\\Temp\\pip-install-fkynwk2m\\beautifulsoup_bbc1c04a4f6d438bbeefe6a27d5f5ae1\\setup.py\", line 3\n",
      "        \"You're trying to run a very old release of Beautiful Soup under Python 3. This will not work.\"<>\"Please use Beautiful Soup 4, available through the pip package 'beautifulsoup4'.\"\n",
      "                                                                                                        ^\n",
      "    SyntaxError: invalid syntax\n",
      "    ----------------------------------------\n",
      "WARNING: Discarding https://files.pythonhosted.org/packages/40/f2/6c9f2f3e696ee6a1fb0e4d7850617e224ed2b0b1e872110abffeca2a09d4/BeautifulSoup-3.2.2.tar.gz#sha256=a04169602bff6e3138b1259dbbf491f5a27f9499dea9a8fbafd48843f9d89970 (from https://pypi.org/simple/beautifulsoup/). Command errored out with exit status 1: python setup.py egg_info Check the logs for full command output.\n",
      "    ERROR: Command errored out with exit status 1:\n",
      "     command: 'C:\\ProgramData\\Anaconda3\\python.exe' -c 'import sys, setuptools, tokenize; sys.argv[0] = '\"'\"'C:\\\\Users\\\\Cho\\\\AppData\\\\Local\\\\Temp\\\\pip-install-fkynwk2m\\\\beautifulsoup_ca7f4ce332d64050a7708fcb06c284b4\\\\setup.py'\"'\"'; __file__='\"'\"'C:\\\\Users\\\\Cho\\\\AppData\\\\Local\\\\Temp\\\\pip-install-fkynwk2m\\\\beautifulsoup_ca7f4ce332d64050a7708fcb06c284b4\\\\setup.py'\"'\"';f=getattr(tokenize, '\"'\"'open'\"'\"', open)(__file__);code=f.read().replace('\"'\"'\\r\\n'\"'\"', '\"'\"'\\n'\"'\"');f.close();exec(compile(code, __file__, '\"'\"'exec'\"'\"'))' egg_info --egg-base 'C:\\Users\\Cho\\AppData\\Local\\Temp\\pip-pip-egg-info-yamrvims'\n",
      "         cwd: C:\\Users\\Cho\\AppData\\Local\\Temp\\pip-install-fkynwk2m\\beautifulsoup_ca7f4ce332d64050a7708fcb06c284b4\\\n",
      "    Complete output (6 lines):\n",
      "    Traceback (most recent call last):\n",
      "      File \"<string>\", line 1, in <module>\n",
      "      File \"C:\\Users\\Cho\\AppData\\Local\\Temp\\pip-install-fkynwk2m\\beautifulsoup_ca7f4ce332d64050a7708fcb06c284b4\\setup.py\", line 22\n",
      "        print \"Unit tests have failed!\"\n",
      "              ^\n",
      "    SyntaxError: Missing parentheses in call to 'print'. Did you mean print(\"Unit tests have failed!\")?\n",
      "    ----------------------------------------\n",
      "WARNING: Discarding https://files.pythonhosted.org/packages/1e/ee/295988deca1a5a7accd783d0dfe14524867e31abb05b6c0eeceee49c759d/BeautifulSoup-3.2.1.tar.gz#sha256=6a8cb4401111e011b579c8c52a51cdab970041cc543814bbd9577a4529fe1cdb (from https://pypi.org/simple/beautifulsoup/). Command errored out with exit status 1: python setup.py egg_info Check the logs for full command output.\n",
      "    ERROR: Command errored out with exit status 1:\n",
      "     command: 'C:\\ProgramData\\Anaconda3\\python.exe' -c 'import sys, setuptools, tokenize; sys.argv[0] = '\"'\"'C:\\\\Users\\\\Cho\\\\AppData\\\\Local\\\\Temp\\\\pip-install-fkynwk2m\\\\beautifulsoup_27338485f5b64016976ea57ec5af6401\\\\setup.py'\"'\"'; __file__='\"'\"'C:\\\\Users\\\\Cho\\\\AppData\\\\Local\\\\Temp\\\\pip-install-fkynwk2m\\\\beautifulsoup_27338485f5b64016976ea57ec5af6401\\\\setup.py'\"'\"';f=getattr(tokenize, '\"'\"'open'\"'\"', open)(__file__);code=f.read().replace('\"'\"'\\r\\n'\"'\"', '\"'\"'\\n'\"'\"');f.close();exec(compile(code, __file__, '\"'\"'exec'\"'\"'))' egg_info --egg-base 'C:\\Users\\Cho\\AppData\\Local\\Temp\\pip-pip-egg-info-vwoht0ty'\n",
      "         cwd: C:\\Users\\Cho\\AppData\\Local\\Temp\\pip-install-fkynwk2m\\beautifulsoup_27338485f5b64016976ea57ec5af6401\\\n",
      "    Complete output (6 lines):\n",
      "    Traceback (most recent call last):\n",
      "      File \"<string>\", line 1, in <module>\n",
      "      File \"C:\\Users\\Cho\\AppData\\Local\\Temp\\pip-install-fkynwk2m\\beautifulsoup_27338485f5b64016976ea57ec5af6401\\setup.py\", line 22\n",
      "        print \"Unit tests have failed!\"\n",
      "              ^\n",
      "    SyntaxError: Missing parentheses in call to 'print'. Did you mean print(\"Unit tests have failed!\")?\n",
      "    ----------------------------------------\n",
      "WARNING: Discarding https://files.pythonhosted.org/packages/33/fe/15326560884f20d792d3ffc7fe8f639aab88647c9d46509a240d9bfbb6b1/BeautifulSoup-3.2.0.tar.gz#sha256=0dc52d07516c1665c9dd9f0a390a7a054bfb7b147a50b2866fb116b8909dfd37 (from https://pypi.org/simple/beautifulsoup/). Command errored out with exit status 1: python setup.py egg_info Check the logs for full command output.\n",
      "ERROR: Could not find a version that satisfies the requirement BeautifulSoup\n",
      "ERROR: No matching distribution found for BeautifulSoup\n"
     ]
    },
    {
     "name": "stdout",
     "output_type": "stream",
     "text": [
      "Requirement already satisfied: requests in c:\\programdata\\anaconda3\\lib\\site-packages (2.25.1)\n",
      "Requirement already satisfied: urllib3<1.27,>=1.21.1 in c:\\programdata\\anaconda3\\lib\\site-packages (from requests) (1.26.4)\n",
      "Requirement already satisfied: certifi>=2017.4.17 in c:\\programdata\\anaconda3\\lib\\site-packages (from requests) (2020.12.5)\n",
      "Requirement already satisfied: chardet<5,>=3.0.2 in c:\\programdata\\anaconda3\\lib\\site-packages (from requests) (4.0.0)\n",
      "Requirement already satisfied: idna<3,>=2.5 in c:\\programdata\\anaconda3\\lib\\site-packages (from requests) (2.10)\n"
     ]
    }
   ],
   "source": [
    "!pip install BeautifulSoup\n",
    "!pip install requests"
   ]
  },
  {
   "cell_type": "markdown",
   "id": "2c46dca2",
   "metadata": {},
   "source": [
    "### 예제2-5. 미국 ETF 리스트 가져오기"
   ]
  },
  {
   "cell_type": "code",
   "execution_count": null,
   "id": "d588065d",
   "metadata": {},
   "outputs": [],
   "source": []
  }
 ],
 "metadata": {
  "kernelspec": {
   "display_name": "Python 3",
   "language": "python",
   "name": "python3"
  },
  "language_info": {
   "codemirror_mode": {
    "name": "ipython",
    "version": 3
   },
   "file_extension": ".py",
   "mimetype": "text/x-python",
   "name": "python",
   "nbconvert_exporter": "python",
   "pygments_lexer": "ipython3",
   "version": "3.8.8"
  },
  "toc": {
   "base_numbering": 1,
   "nav_menu": {},
   "number_sections": true,
   "sideBar": true,
   "skip_h1_title": false,
   "title_cell": "Table of Contents",
   "title_sidebar": "Contents",
   "toc_cell": false,
   "toc_position": {},
   "toc_section_display": true,
   "toc_window_display": false
  }
 },
 "nbformat": 4,
 "nbformat_minor": 5
}
