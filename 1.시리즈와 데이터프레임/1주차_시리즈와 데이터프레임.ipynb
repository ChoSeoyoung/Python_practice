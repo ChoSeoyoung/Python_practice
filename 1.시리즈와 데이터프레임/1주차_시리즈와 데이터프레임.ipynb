{
 "cells": [
  {
   "cell_type": "markdown",
   "id": "b95a5a0c",
   "metadata": {},
   "source": [
    "# 시리즈(Series)와 데이터프레임(DataFrame)\n",
    "* 시리즈는 1차원 배열이고, 데이터프레임은 2차원 배열"
   ]
  },
  {
   "cell_type": "markdown",
   "id": "8e9c1072",
   "metadata": {},
   "source": [
    "## 시리즈\n",
    "* 딕셔너리와 시리즈와 구조가 비슷하기 때문에, 딕셔너리를 시리즈로 변환하는 방법을 많이 사용"
   ]
  },
  {
   "cell_type": "markdown",
   "id": "1ff87d81",
   "metadata": {},
   "source": [
    "### 예제1-1. 딕셔너리로 시리즈 만들기\n",
    "* 딕셔너리를 시리즈로 변환해 본다. {'a':1,'b':2,'c':3}와 같이 'k:v' 구조를 갖는 딕셔너리를 정의하여 변수 dict_data에 저장한다. 변수 dict_data에 저장되어 있는 딕셔너리를 Series() 함수의 인자로 전달하면, 시리즈로 변환한다. Series() 함수가 반환한 시리즈 객체를 변수 sr에 저장한다."
   ]
  },
  {
   "cell_type": "code",
   "execution_count": 2,
   "id": "21184ee1",
   "metadata": {},
   "outputs": [
    {
     "name": "stdout",
     "output_type": "stream",
     "text": [
      "<class 'pandas.core.series.Series'>\n",
      "\n",
      "\n",
      "a    1\n",
      "b    2\n",
      "c    3\n",
      "dtype: int64\n"
     ]
    }
   ],
   "source": [
    "#pandas 불러오기\n",
    "import pandas as pd\n",
    "\n",
    "#key:value 쌍으로 딕셔너리를 만들고, 변수 dict_data에 저장\n",
    "dict_data={'a':1,'b':2,'c':3}\n",
    "\n",
    "#판다스 Series() 함수로 dictionary를 Series로 변환. 변수 sr에 저장\n",
    "sr=pd.Series(dict_data)\n",
    "\n",
    "#sr의 자료형 출력\n",
    "print(type(sr))\n",
    "print('\\n')\n",
    "#변수 sr에 저장되어 있는 시리즈 객체를 출력\n",
    "print(sr)"
   ]
  },
  {
   "cell_type": "markdown",
   "id": "f9035477",
   "metadata": {},
   "source": [
    "### 예제1-2. 리스트로 시리즈 만들기\n",
    "* 파이썬 리스트를 시리즈로 변환해 본다. 단, 딕셔너리의 키처럼 인덱스로 변환될 값이 없다. 따라서, 인덱스를 별도로 지정하지 않으면, 디폴트로 정수형 위치 인덱스(0,1,2,...)가 자동 지정된다. 다음 예제에서는 0~4범위의 정수값이 인덱스로 지정된다."
   ]
  },
  {
   "cell_type": "code",
   "execution_count": 5,
   "id": "4ba9dce7",
   "metadata": {},
   "outputs": [
    {
     "name": "stdout",
     "output_type": "stream",
     "text": [
      "0    2019-01-02\n",
      "1          3.14\n",
      "2           ABC\n",
      "3           100\n",
      "4          True\n",
      "dtype: object\n",
      "RangeIndex(start=0, stop=5, step=1)\n",
      "\n",
      "\n",
      "['2019-01-02' 3.14 'ABC' '100' True]\n"
     ]
    }
   ],
   "source": [
    "import pandas as pd\n",
    "\n",
    "#리스트를 시리즈로 변환하여 변수 sr에 저장\n",
    "list_data=['2019-01-02',3.14,'ABC','100',True]\n",
    "sr=pd.Series(list_data)\n",
    "print(sr)\n",
    "\n",
    "#인덱스 배열은 변수 idx에 저장. 데이터 값 배열은 변수 val에 저장\n",
    "idx=sr.index\n",
    "val=sr.values\n",
    "print(idx)\n",
    "print('\\n')\n",
    "print(val)"
   ]
  },
  {
   "cell_type": "code",
   "execution_count": 8,
   "id": "e3f6f565",
   "metadata": {},
   "outputs": [
    {
     "name": "stdout",
     "output_type": "stream",
     "text": [
      "날짜      2019-01-02\n",
      "원주율           3.14\n",
      "알파벳            ABC\n",
      "정수             100\n",
      "bool          True\n",
      "dtype: object\n",
      "Index(['날짜', '원주율', '알파벳', '정수', 'bool'], dtype='object')\n",
      "\n",
      "\n",
      "['2019-01-02' 3.14 'ABC' '100' True]\n"
     ]
    }
   ],
   "source": [
    "import pandas as pd\n",
    "\n",
    "#리스트를 시리즈로 변환하여 변수 sr에 저장\n",
    "list_data=['2019-01-02',3.14,'ABC','100',True]\n",
    "sr=pd.Series(list_data,index=['날짜','원주율','알파벳','정수','bool'])\n",
    "print(sr)\n",
    "\n",
    "#인덱스 배열은 변수 idx에 저장. 데이터 값 배열은 변수 val에 저장\n",
    "idx=sr.index\n",
    "val=sr.values\n",
    "print(idx)\n",
    "print('\\n')\n",
    "print(val)"
   ]
  },
  {
   "cell_type": "markdown",
   "id": "40fdb7e5",
   "metadata": {},
   "source": [
    "### 예제1-3. 튜플로 시리즈 만들기\n",
    "* 파이썬 튜플을 시리즈로 변환한다. 정수형 위치 인덱스 대신에 인덱스 이름을 따로 지정할 수 있다. Series() 함수의 index 옵션에 인덱스 이름을 리스트 형태로 직접 전달하는 방식이다."
   ]
  },
  {
   "cell_type": "code",
   "execution_count": 10,
   "id": "cabd5e18",
   "metadata": {},
   "outputs": [
    {
     "name": "stdout",
     "output_type": "stream",
     "text": [
      "이름              영인\n",
      "생년월일    2010-05-01\n",
      "성별               여\n",
      "학생여부          True\n",
      "dtype: object\n",
      "영인\n",
      "영인\n",
      "생년월일    2010-05-01\n",
      "성별               여\n",
      "dtype: object\n",
      "\n",
      "\n",
      "생년월일    2010-05-01\n",
      "성별               여\n",
      "dtype: object\n",
      "생년월일    2010-05-01\n",
      "dtype: object\n",
      "\n",
      "\n",
      "생년월일    2010-05-01\n",
      "성별               여\n",
      "dtype: object\n"
     ]
    }
   ],
   "source": [
    "import pandas as pd\n",
    "\n",
    "#튜플을 시리즈로 변환(인덱스 옵션 지정)\n",
    "tup_data=('영인','2010-05-01','여',True)\n",
    "sr=pd.Series(tup_data,index=['이름','생년월일','성별','학생여부'])\n",
    "print(sr)\n",
    "\n",
    "#원소를 1개 선택\n",
    "print(sr[0])\n",
    "print(sr['이름'])\n",
    "#여러 개의 원소를 선택(인덱스 리스트 활용)\n",
    "print(sr[[1,2]])\n",
    "print('\\n')\n",
    "print(sr[['생년월일','성별']])\n",
    "#정수형 위치 인덱스를 사용할 때는 끝 원소가 포함되지 않지만, 인덱스 이름을 사용하면 끝 원소가 포함된다.\n",
    "print(sr[1:2])\n",
    "print('\\n')\n",
    "print(sr['생년월일':'성별'])"
   ]
  },
  {
   "cell_type": "markdown",
   "id": "13f8b0d1",
   "metadata": {},
   "source": [
    "## 데이터프레임\n",
    "* 딕셔너리의 값(v)에 해당하는 각 리스트가 시리즈로 변환되어 데이터프레임의 각 열이 됨\n",
    "* 딕셔너리의 키(k)는 각 시리즈의 이름으로 변환되어, 최종적으로 열 이름이 됨"
   ]
  },
  {
   "cell_type": "markdown",
   "id": "8f646cc4",
   "metadata": {},
   "source": [
    "### 예제1-4. 딕셔너리로 데이터프레임 만들기\n",
    "* 원소 3개씩 담고 있는 리스트를 5개 만든다. 이들 5개의 리스트를 원소로 갖는 딕셔너리를 정의하고, 판다스 DataFrame() 함수에 전달하면 5개의 열을 갖는 데이터프레임을 만든다. 이때, 딕셔너리의 키(k)가 열 이름(c0~c4)가 되고, 값(v)에 해당하는 각 리스트가 데이터프레임의 열이 된다. 행 인덱스에는 정수형 위치 인덱스(0,1,2)가 자동 지정된다."
   ]
  },
  {
   "cell_type": "code",
   "execution_count": 12,
   "id": "cacfe6a1",
   "metadata": {},
   "outputs": [
    {
     "name": "stdout",
     "output_type": "stream",
     "text": [
      "<class 'pandas.core.frame.DataFrame'>\n",
      "\n",
      "\n",
      "   c0  c1  c2  c3  c4\n",
      "0   1   4   7  10  13\n",
      "1   2   5   8  11  14\n",
      "2   3   6   9  12  15\n"
     ]
    }
   ],
   "source": [
    "import pandas as pd\n",
    "\n",
    "#열 이름을 key로 하고, 리스트를 value로 갖는 딕셔너리 정의(2차원 배열)\n",
    "dict_data={'c0':[1,2,3],'c1':[4,5,6],'c2':[7,8,9],'c3':[10,11,12],'c4':[13,14,15]}\n",
    "\n",
    "#판다스 DataFrame() 함수로 딕셔너리를 데이터프레임으로 변환. 변수 df에 저장\n",
    "df=pd.DataFrame(dict_data)\n",
    "\n",
    "#df의 자료형 출력\n",
    "print(type(df))\n",
    "print('\\n')\n",
    "#변수 df에 저장되어 있는 데이터프레임 객체를 출력\n",
    "print(df)"
   ]
  },
  {
   "cell_type": "markdown",
   "id": "9bdd212f",
   "metadata": {},
   "source": [
    "### 예제1-5. 행 인덱스/열 이름 설정\n",
    "* '3개의 원소를 갖는 리스트'2개를 원소로 갖는 리스트(2차원 배열로 데이터프레임을 만든다. 이때, 각 리스트가 행으로 변환되는 점에 유의한다.\n",
    "-index 옵션: ['준서','예은']배열을 지정\n",
    "-columns 옵션: ['나이','성별','학교']배열을 지정"
   ]
  },
  {
   "cell_type": "code",
   "execution_count": 16,
   "id": "469320d3",
   "metadata": {},
   "outputs": [
    {
     "name": "stdout",
     "output_type": "stream",
     "text": [
      "    나이 성별   학교\n",
      "준서  15  남  덕영중\n",
      "예은  17  여  수리중\n",
      "\n",
      "\n",
      "Index(['준서', '예은'], dtype='object')\n",
      "\n",
      "\n",
      "Index(['나이', '성별', '학교'], dtype='object')\n",
      "     연령 남녀   소속\n",
      "학생1  15  남  덕영중\n",
      "학생2  17  여  수리중\n",
      "\n",
      "\n",
      "Index(['학생1', '학생2'], dtype='object')\n",
      "\n",
      "\n",
      "Index(['연령', '남녀', '소속'], dtype='object')\n"
     ]
    }
   ],
   "source": [
    "import pandas as pd\n",
    "\n",
    "# 행 인덱스/열 이름 지정하여 데이터프레임 만들기\n",
    "df = pd.DataFrame([[15,'남','덕영중'],[17,'여','수리중']],\n",
    "                 index=['준서','예은'],\n",
    "                 columns=['나이','성별','학교'])\n",
    "\n",
    "# 행 인덱스, 열 이름 확인하기\n",
    "print(df)\n",
    "print('\\n')\n",
    "print(df.index) #행 인덱스\n",
    "print('\\n')\n",
    "print(df.columns) #열 이름\n",
    "\n",
    "# 행 인덱스, 열 이름 변경하기\n",
    "df.index=['학생1','학생2']\n",
    "df.columns=['연령','남녀','소속']\n",
    "\n",
    "print(df)\n",
    "print('\\n')\n",
    "print(df.index) #행 인덱스\n",
    "print('\\n')\n",
    "print(df.columns) #열 이름"
   ]
  },
  {
   "cell_type": "markdown",
   "id": "9bc53c84",
   "metadata": {},
   "source": [
    "### 예제1-6. rename() 메소드 사용\n",
    "* rename() 메소드를 적용하면, 행 인덱스 또는 열 이름의 일부를 선택하여 변경 가능. 단, 원본 객체를 직접 수정하는 것이 아니라 새로운 데이터프레임 객체를 반환하는 점 유의.\n",
    "* 원본 객체를 변경하려면, inplace=True 옵션을 사용"
   ]
  },
  {
   "cell_type": "code",
   "execution_count": 18,
   "id": "5e9f2682",
   "metadata": {},
   "outputs": [
    {
     "name": "stdout",
     "output_type": "stream",
     "text": [
      "    나이 성별   학교\n",
      "준서  15  남  덕영중\n",
      "예은  17  여  수리중\n",
      "\n",
      "\n",
      "     연령 남녀   소속\n",
      "학생1  15  남  덕영중\n",
      "학생2  17  여  수리중\n"
     ]
    }
   ],
   "source": [
    "import pandas as pd\n",
    "\n",
    "# 행 인덱스/열 이름 지정하여 데이터프레임 만들기\n",
    "df = pd.DataFrame([[15,'남','덕영중'],[17,'여','수리중']],\n",
    "                 index=['준서','예은'],\n",
    "                 columns=['나이','성별','학교'])\n",
    "\n",
    "# 데이터프레임 df 출력\n",
    "print(df)\n",
    "print('\\n')\n",
    "\n",
    "# 열 이름 중,'나이'를 '연령'으로, '성별'을 '남녀'로, '학교'를 소속으로 바꾸기\n",
    "df.rename(columns={'나이':'연령','성별':'남녀','학교':'소속'},inplace=True)\n",
    "\n",
    "# df의 행 인덱스 중에서, '준서'를 '학생1'로, '예은'을 '학생2'로 바꾸기\n",
    "df.rename(index={'준서':'학생1','예은':'학생2'},inplace=True)\n",
    "\n",
    "# df 출력(변경 후)\n",
    "print(df)"
   ]
  },
  {
   "cell_type": "markdown",
   "id": "182fd2ab",
   "metadata": {},
   "source": [
    "* 행/열 삭제\n",
    "* drop()메소드에 행을 삭제할 때는 축(axis)옵션으로 axis=0을 입력하거나, 별도로 입력하지 않음\n",
    "* 축 옵션으로 axis=1을 입력하면 열을 삭제함. 동시에 여러 개의 행 또는 열을 삭제하려면, 리스트 형태로 입력함"
   ]
  },
  {
   "cell_type": "markdown",
   "id": "b082ea42",
   "metadata": {},
   "source": [
    "### 예제 1-7. 행 삭제"
   ]
  },
  {
   "cell_type": "code",
   "execution_count": 21,
   "id": "16381c1c",
   "metadata": {},
   "outputs": [
    {
     "name": "stdout",
     "output_type": "stream",
     "text": [
      "    수학  영어   음악   체육\n",
      "서준  90  98   85  100\n",
      "우현  80  89   95   90\n",
      "인아  70  95  100   90\n",
      "\n",
      "\n",
      "    수학  영어   음악   체육\n",
      "서준  90  98   85  100\n",
      "인아  70  95  100   90\n",
      "\n",
      "\n",
      "    수학  영어  음악   체육\n",
      "서준  90  98  85  100\n"
     ]
    },
    {
     "name": "stderr",
     "output_type": "stream",
     "text": [
      "C:\\ProgramData\\Anaconda3\\lib\\site-packages\\pandas\\core\\frame.py:4308: SettingWithCopyWarning: \n",
      "A value is trying to be set on a copy of a slice from a DataFrame\n",
      "\n",
      "See the caveats in the documentation: https://pandas.pydata.org/pandas-docs/stable/user_guide/indexing.html#returning-a-view-versus-a-copy\n",
      "  return super().drop(\n",
      "C:\\ProgramData\\Anaconda3\\lib\\site-packages\\pandas\\core\\frame.py:4308: SettingWithCopyWarning: \n",
      "A value is trying to be set on a copy of a slice from a DataFrame\n",
      "\n",
      "See the caveats in the documentation: https://pandas.pydata.org/pandas-docs/stable/user_guide/indexing.html#returning-a-view-versus-a-copy\n",
      "  return super().drop(\n"
     ]
    }
   ],
   "source": [
    "import pandas as pd\n",
    "\n",
    "#DataFrame() 함수로 데이터프레임 변환. 변수 df에 저장\n",
    "exam_data={'수학':[90,80,70],'영어':[98,89,95],\n",
    "          '음악':[85,95,100],'체육':[100,90,90]}\n",
    "\n",
    "df = pd.DataFrame(exam_data,index=['서준','우현','인아'])\n",
    "print(df)\n",
    "print('\\n')\n",
    "\n",
    "#데이터프레임 df를 복제하여 변수 df2에 저장. df2의 1개 행(row) 삭제\n",
    "df2 = df[:]\n",
    "df2.drop('우현',inplace=True)\n",
    "print(df2)\n",
    "print('\\n')\n",
    "\n",
    "#데이터프레임 df를 복제하여 변수 df3에 저장. df3의 2개 행(row) 삭제\n",
    "df3=df[:]\n",
    "df3.drop(['우현','인아'],axis=0,inplace=True)\n",
    "print(df3)"
   ]
  },
  {
   "cell_type": "markdown",
   "id": "82a6e75a",
   "metadata": {},
   "source": [
    "### 예제 1-8. 열 삭제"
   ]
  },
  {
   "cell_type": "code",
   "execution_count": 22,
   "id": "2ca54a1b",
   "metadata": {},
   "outputs": [
    {
     "name": "stdout",
     "output_type": "stream",
     "text": [
      "    수학  영어   음악   체육\n",
      "서준  90  98   85  100\n",
      "우현  80  89   95   90\n",
      "인아  70  95  100   90\n",
      "\n",
      "\n",
      "    영어   음악   체육\n",
      "서준  98   85  100\n",
      "우현  89   95   90\n",
      "인아  95  100   90\n",
      "\n",
      "\n",
      "    수학   체육\n",
      "서준  90  100\n",
      "우현  80   90\n",
      "인아  70   90\n",
      "\n",
      "\n"
     ]
    },
    {
     "name": "stderr",
     "output_type": "stream",
     "text": [
      "C:\\ProgramData\\Anaconda3\\lib\\site-packages\\pandas\\core\\frame.py:4308: SettingWithCopyWarning: \n",
      "A value is trying to be set on a copy of a slice from a DataFrame\n",
      "\n",
      "See the caveats in the documentation: https://pandas.pydata.org/pandas-docs/stable/user_guide/indexing.html#returning-a-view-versus-a-copy\n",
      "  return super().drop(\n",
      "C:\\ProgramData\\Anaconda3\\lib\\site-packages\\pandas\\core\\frame.py:4308: SettingWithCopyWarning: \n",
      "A value is trying to be set on a copy of a slice from a DataFrame\n",
      "\n",
      "See the caveats in the documentation: https://pandas.pydata.org/pandas-docs/stable/user_guide/indexing.html#returning-a-view-versus-a-copy\n",
      "  return super().drop(\n"
     ]
    }
   ],
   "source": [
    "import pandas as pd\n",
    "\n",
    "#DataFrame() 함수로 데이터프레임 변환. 변수 df에 저장\n",
    "exam_data={'수학':[90,80,70],'영어':[98,89,95],\n",
    "          '음악':[85,95,100],'체육':[100,90,90]}\n",
    "\n",
    "df = pd.DataFrame(exam_data,index=['서준','우현','인아'])\n",
    "print(df)\n",
    "print('\\n')\n",
    "\n",
    "#데이터프레임 df를 복제하여 변수 df4에 저장. df4의 1개의 열(column)삭제\n",
    "df4=df[:]\n",
    "df4.drop('수학',axis=1,inplace=True)\n",
    "print(df4)\n",
    "print('\\n')\n",
    "\n",
    "#데이터프레임 df를 복제하여 변수 df5에 저장. df5의 2개의 열(column)삭제\n",
    "df5=df[:]\n",
    "df5.drop(['영어','음악'],axis=1,inplace=True)\n",
    "print(df5)\n",
    "print('\\n')"
   ]
  },
  {
   "cell_type": "markdown",
   "id": "38a1d3f0",
   "metadata": {},
   "source": [
    "### 예제 1-9. 1개의 행 선택, 여러 개의 행 선택"
   ]
  },
  {
   "cell_type": "code",
   "execution_count": 28,
   "id": "c206bd76",
   "metadata": {},
   "outputs": [
    {
     "name": "stdout",
     "output_type": "stream",
     "text": [
      "    수학  영어   음악   체육\n",
      "서준  90  98   85  100\n",
      "우현  80  89   95   90\n",
      "인아  70  95  100   90\n",
      "\n",
      "\n",
      "수학     90\n",
      "영어     98\n",
      "음악     85\n",
      "체육    100\n",
      "Name: 서준, dtype: int64\n",
      "\n",
      "\n",
      "수학     90\n",
      "영어     98\n",
      "음악     85\n",
      "체육    100\n",
      "Name: 서준, dtype: int64\n",
      "    수학  영어  음악   체육\n",
      "서준  90  98  85  100\n",
      "우현  80  89  95   90\n",
      "\n",
      "\n",
      "    수학  영어  음악   체육\n",
      "서준  90  98  85  100\n",
      "우현  80  89  95   90\n",
      "    수학  영어  음악   체육\n",
      "서준  90  98  85  100\n",
      "우현  80  89  95   90\n",
      "\n",
      "\n",
      "    수학  영어  음악   체육\n",
      "서준  90  98  85  100\n"
     ]
    }
   ],
   "source": [
    "import pandas as pd\n",
    "\n",
    "#DataFrame() 함수로 데이터프레임 변환. 변수 df에 저장\n",
    "exam_data={'수학':[90,80,70],'영어':[98,89,95],\n",
    "          '음악':[85,95,100],'체육':[100,90,90]}\n",
    "\n",
    "df = pd.DataFrame(exam_data,index=['서준','우현','인아'])\n",
    "print(df)\n",
    "print('\\n')\n",
    "\n",
    "#행 인덱스를 사용하여 행 1개 선택\n",
    "label1 = df.loc['서준']\n",
    "position1 = df.iloc[0]\n",
    "print(label1)\n",
    "print('\\n')\n",
    "print(position1)\n",
    "\n",
    "#행 인덱스를 사용하여 2개 이상의 행 선택\n",
    "label2 = df.loc[['서준','우현']]\n",
    "position2 = df.iloc[[0,1]]\n",
    "print(label2)\n",
    "print('\\n')\n",
    "print(position2)\n",
    "\n",
    "#행 인덱스의 범위를 지정하여 행 선택\n",
    "## 인덱스 이름을 범위로 지정하면 마지막 원소가 출력되지만, 정수형 위치 인덱스로 지정하면 마지막 원소가 출력되지 않는다.\n",
    "label3 = df.loc['서준':'우현']\n",
    "position3 = df.iloc[0:1]\n",
    "print(label3)\n",
    "print('\\n')\n",
    "print(position3)"
   ]
  },
  {
   "cell_type": "markdown",
   "id": "be8c0345",
   "metadata": {},
   "source": [
    "### 예제1-10. 1개의 열 선택, n개의 열 선택"
   ]
  },
  {
   "cell_type": "code",
   "execution_count": 33,
   "id": "b8802c03",
   "metadata": {},
   "outputs": [
    {
     "name": "stdout",
     "output_type": "stream",
     "text": [
      "   이름  수학  영어   음악   체육\n",
      "0  서준  90  98   85  100\n",
      "1  우현  80  89   95   90\n",
      "2  인아  70  95  100   90\n",
      "<class 'pandas.core.frame.DataFrame'>\n",
      "\n",
      "\n",
      "0    90\n",
      "1    80\n",
      "2    70\n",
      "Name: 수학, dtype: int64\n",
      "<class 'pandas.core.series.Series'>\n",
      "\n",
      "\n",
      "0    98\n",
      "1    89\n",
      "2    95\n",
      "Name: 영어, dtype: int64\n",
      "<class 'pandas.core.series.Series'>\n",
      "\n",
      "\n",
      "    음악   체육\n",
      "0   85  100\n",
      "1   95   90\n",
      "2  100   90\n",
      "<class 'pandas.core.frame.DataFrame'>\n",
      "\n",
      "\n",
      "   수학\n",
      "0  90\n",
      "1  80\n",
      "2  70\n",
      "<class 'pandas.core.frame.DataFrame'>\n",
      "\n",
      "\n"
     ]
    }
   ],
   "source": [
    "import pandas as pd\n",
    "\n",
    "#DataFrame() 함수로 데이터 프레임 변환. 변수 df에 저장\n",
    "exam_data={'이름':['서준','우현','인아'],\n",
    "          '수학':[90,80,70],\n",
    "          '영어':[98,89,95],\n",
    "          '음악':[85,95,100],\n",
    "          '체육':[100,90,90]}\n",
    "\n",
    "df=pd.DataFrame(exam_data)\n",
    "print(df)\n",
    "\n",
    "print(type(df))\n",
    "print('\\n')\n",
    "\n",
    "#'수학' 점수 데이터만 선택. 변수 math1에 저장\n",
    "math1 = df['수학']\n",
    "print(math1)\n",
    "print(type(math1))\n",
    "print('\\n')\n",
    "\n",
    "\n",
    "#'영어' 점수 데이터만 선택. 변수 english1에 저장\n",
    "english1 = df.영어\n",
    "print(english1)\n",
    "print(type(english1))\n",
    "print('\\n')\n",
    "\n",
    "#'음악','체육' 점수 데이터를 선택, 변수 music_gym에 저장\n",
    "music_gym = df[['음악','체육']]\n",
    "print(music_gym)\n",
    "print(type(music_gym))\n",
    "print('\\n')\n",
    "\n",
    "#'수학'점수 데이터만 선택. 변수 math2에 저장\n",
    "math2 = df[['수학']]\n",
    "print(math2)\n",
    "print(type(math2))\n",
    "print('\\n')"
   ]
  },
  {
   "cell_type": "markdown",
   "id": "f5019cea",
   "metadata": {},
   "source": [
    "### 예제1-11. 원소 선택"
   ]
  },
  {
   "cell_type": "code",
   "execution_count": 36,
   "id": "9dde7d68",
   "metadata": {},
   "outputs": [
    {
     "name": "stdout",
     "output_type": "stream",
     "text": [
      "    수학  영어   음악   체육\n",
      "이름                  \n",
      "서준  90  98   85  100\n",
      "우현  80  89   95   90\n",
      "인아  70  95  100   90\n",
      "85\n",
      "85\n",
      "음악     85\n",
      "체육    100\n",
      "Name: 서준, dtype: int64\n",
      "음악     85\n",
      "체육    100\n",
      "Name: 서준, dtype: int64\n",
      "음악     85\n",
      "체육    100\n",
      "Name: 서준, dtype: int64\n",
      "음악     85\n",
      "체육    100\n",
      "Name: 서준, dtype: int64\n",
      "    음악   체육\n",
      "이름         \n",
      "서준  85  100\n",
      "우현  95   90\n",
      "    음악   체육\n",
      "이름         \n",
      "서준  85  100\n",
      "우현  95   90\n",
      "    음악   체육\n",
      "이름         \n",
      "서준  85  100\n",
      "우현  95   90\n",
      "    음악   체육\n",
      "이름         \n",
      "서준  85  100\n",
      "우현  95   90\n"
     ]
    }
   ],
   "source": [
    "import pandas as pd\n",
    "\n",
    "#DataFrame() 함수로 데이터 프레임 변환. 변수 df에 저장\n",
    "exam_data={'이름':['서준','우현','인아'],\n",
    "          '수학':[90,80,70],\n",
    "          '영어':[98,89,95],\n",
    "          '음악':[85,95,100],\n",
    "          '체육':[100,90,90]}\n",
    "\n",
    "df=pd.DataFrame(exam_data)\n",
    "\n",
    "#'이름'열을 새로운 인덱스로 지정하고, df 객체에 변경 사항 반영\n",
    "df.set_index('이름',inplace=True)\n",
    "print(df)\n",
    "\n",
    "#데이터프레임 df의 특정 원소 1개 선택('서준'의 '음악'점수)\n",
    "a=df.loc['서준','음악']\n",
    "print(a)\n",
    "b=df.iloc[0,2]\n",
    "print(b)\n",
    "\n",
    "#데이터프레임 df의 특정 원소 2개 이상 선택('서준'의 '음악','체육'점수)\n",
    "c=df.loc['서준',['음악','체육']]\n",
    "print(c)\n",
    "d=df.iloc[0,[2,3]]\n",
    "print(d)\n",
    "e=df.loc['서준','음악':'체육']\n",
    "print(e)\n",
    "f=df.iloc[0,2:]\n",
    "print(f)\n",
    "\n",
    "#2개 이상의 원소를 선택(데이터프레임)\n",
    "g=df.loc[['서준','우현'],['음악','체육']]\n",
    "print(g)\n",
    "h=df.iloc[[0,1],[2,3]]\n",
    "print(h)\n",
    "i=df.loc['서준':'우현','음악':'체육']\n",
    "print(i)\n",
    "j=df.iloc[0:2,2:]\n",
    "print(j)"
   ]
  },
  {
   "cell_type": "markdown",
   "id": "eef1e1b2",
   "metadata": {},
   "source": [
    "### 예제 1-12. 열 추가"
   ]
  },
  {
   "cell_type": "code",
   "execution_count": 38,
   "id": "21279f10",
   "metadata": {},
   "outputs": [
    {
     "name": "stdout",
     "output_type": "stream",
     "text": [
      "   이름  수학  영어   음악   체육\n",
      "0  서준  90  98   85  100\n",
      "1  우현  80  89   95   90\n",
      "2  인아  70  95  100   90\n",
      "\n",
      "\n",
      "   이름  수학  영어   음악   체육  국어\n",
      "0  서준  90  98   85  100  80\n",
      "1  우현  80  89   95   90  80\n",
      "2  인아  70  95  100   90  80\n"
     ]
    }
   ],
   "source": [
    "import pandas as pd\n",
    "\n",
    "#DataFrame() 함수로 데이터 프레임 변환. 변수 df에 저장\n",
    "exam_data={'이름':['서준','우현','인아'],\n",
    "          '수학':[90,80,70],\n",
    "          '영어':[98,89,95],\n",
    "          '음악':[85,95,100],\n",
    "          '체육':[100,90,90]}\n",
    "\n",
    "df=pd.DataFrame(exam_data)\n",
    "print(df)\n",
    "print('\\n')\n",
    "\n",
    "#데이터프레임 df에 '국어'점수 열(column)추가. 데이터 값은 80지정\n",
    "df['국어']=80\n",
    "print(df)"
   ]
  },
  {
   "cell_type": "markdown",
   "id": "a75de4c2",
   "metadata": {},
   "source": [
    "### 예제1-13. 행추가"
   ]
  },
  {
   "cell_type": "code",
   "execution_count": 40,
   "id": "f1159985",
   "metadata": {},
   "outputs": [
    {
     "name": "stdout",
     "output_type": "stream",
     "text": [
      "   이름  수학  영어   음악   체육\n",
      "0  서준  90  98   85  100\n",
      "1  우현  80  89   95   90\n",
      "2  인아  70  95  100   90\n",
      "\n",
      "\n",
      "   이름  수학  영어   음악   체육\n",
      "0  서준  90  98   85  100\n",
      "1  우현  80  89   95   90\n",
      "2  인아  70  95  100   90\n",
      "3   0   0   0    0    0\n",
      "\n",
      "\n",
      "   이름  수학  영어   음악   체육\n",
      "0  서준  90  98   85  100\n",
      "1  우현  80  89   95   90\n",
      "2  인아  70  95  100   90\n",
      "3   0   0   0    0    0\n",
      "4  동규  90  80   70   60\n",
      "\n",
      "\n",
      "    이름  수학  영어   음악   체육\n",
      "0   서준  90  98   85  100\n",
      "1   우현  80  89   95   90\n",
      "2   인아  70  95  100   90\n",
      "3    0   0   0    0    0\n",
      "4   동규  90  80   70   60\n",
      "행5   0   0   0    0    0\n"
     ]
    }
   ],
   "source": [
    "import pandas as pd\n",
    "\n",
    "#DataFrame() 함수로 데이터 프레임 변환. 변수 df에 저장\n",
    "exam_data={'이름':['서준','우현','인아'],\n",
    "          '수학':[90,80,70],\n",
    "          '영어':[98,89,95],\n",
    "          '음악':[85,95,100],\n",
    "          '체육':[100,90,90]}\n",
    "\n",
    "df=pd.DataFrame(exam_data)\n",
    "print(df)\n",
    "print('\\n')\n",
    "\n",
    "\n",
    "#새로운 행 추가 - 같은 원소 값 입력\n",
    "df.loc[3]=0\n",
    "print(df)\n",
    "print('\\n')\n",
    "\n",
    "#새로운 행 추가 - 원소 값 여러 개의 배열 입력\n",
    "df.loc[4] = ['동규',90,80,70,60]\n",
    "print(df)\n",
    "print('\\n')\n",
    "\n",
    "#새로운 행 추가 - 기존 행 복사\n",
    "df.loc['행5']=df.iloc[3]\n",
    "print(df)"
   ]
  },
  {
   "cell_type": "code",
   "execution_count": null,
   "id": "8110ac06",
   "metadata": {},
   "outputs": [],
   "source": []
  }
 ],
 "metadata": {
  "kernelspec": {
   "display_name": "Python 3",
   "language": "python",
   "name": "python3"
  },
  "language_info": {
   "codemirror_mode": {
    "name": "ipython",
    "version": 3
   },
   "file_extension": ".py",
   "mimetype": "text/x-python",
   "name": "python",
   "nbconvert_exporter": "python",
   "pygments_lexer": "ipython3",
   "version": "3.8.8"
  },
  "toc": {
   "base_numbering": 1,
   "nav_menu": {},
   "number_sections": true,
   "sideBar": true,
   "skip_h1_title": false,
   "title_cell": "Table of Contents",
   "title_sidebar": "Contents",
   "toc_cell": false,
   "toc_position": {
    "height": "calc(100% - 180px)",
    "left": "10px",
    "top": "150px",
    "width": "256px"
   },
   "toc_section_display": true,
   "toc_window_display": false
  }
 },
 "nbformat": 4,
 "nbformat_minor": 5
}
