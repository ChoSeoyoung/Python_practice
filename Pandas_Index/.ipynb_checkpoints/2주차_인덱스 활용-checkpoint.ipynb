{
 "cells": [
  {
   "cell_type": "markdown",
   "id": "ccf9b63a",
   "metadata": {},
   "source": [
    "# 특정 열을 행 인덱스로 설정\n",
    "* set_index() 메소드를 사용하여 데이터프레임의 특정 열을 행 인덱스로 설정함\n",
    "* 원본 데이터프레임을 바꾸지 않고, 새로운 객체를 반환한다. inplace=True를 이용!"
   ]
  },
  {
   "cell_type": "markdown",
   "id": "f617d55b",
   "metadata": {},
   "source": [
    "### 예제1-16. 특정 열을 행 인덱스로 설정\n",
    "* set_index()메소드를 사용하여 행 인덱스를 새로 지정하면 기존 행 인덱스는 삭제됨"
   ]
  },
  {
   "cell_type": "code",
   "execution_count": 1,
   "id": "07332473",
   "metadata": {},
   "outputs": [
    {
     "name": "stdout",
     "output_type": "stream",
     "text": [
      "   이름  수학  영어   음악   체육\n",
      "0  서준  90  98   95  100\n",
      "1  우현  80  89   95   90\n",
      "2  인아  70  95  100   90\n",
      "    수학  영어   음악   체육\n",
      "이름                  \n",
      "서준  90  98   95  100\n",
      "우현  80  89   95   90\n",
      "인아  70  95  100   90\n",
      "\n",
      "\n",
      "     수학  영어   체육\n",
      "음악              \n",
      "95   90  98  100\n",
      "95   80  89   90\n",
      "100  70  95   90\n",
      "\n",
      "\n",
      "        영어   체육\n",
      "수학 음악          \n",
      "90 95   98  100\n",
      "80 95   89   90\n",
      "70 100  95   90\n",
      "\n",
      "\n"
     ]
    }
   ],
   "source": [
    "import pandas as pd\n",
    "\n",
    "# DataFrame()함수로 데이터프레임 변환. 변수 df에 저장\n",
    "exam_data={'이름':['서준','우현','인아'],\n",
    "          '수학':[90,80,70],\n",
    "          '영어':[98,89,95],\n",
    "          '음악':[95,95,100],\n",
    "          '체육':[100,90,90]}\n",
    "\n",
    "df=pd.DataFrame(exam_data)\n",
    "print(df)\n",
    "\n",
    "# 특정 열(column)을 데이터프레임의 행 인덱스(index)로 설정\n",
    "ndf = df.set_index(['이름'])\n",
    "print(ndf)\n",
    "print('\\n')\n",
    "##set_index()메소드를 사용하여 행 인덱스를 새로 지정하면 기존 행 인덱스는 삭제됨\n",
    "ndf2 = ndf.set_index(['음악'])\n",
    "print(ndf2)\n",
    "print('\\n')\n",
    "ndf3 = ndf.set_index(['수학','음악'])\n",
    "print(ndf3)\n",
    "print('\\n')"
   ]
  },
  {
   "cell_type": "markdown",
   "id": "8a462b18",
   "metadata": {},
   "source": [
    "### 예제1-17. 행 인덱스 재배열\n",
    "* 새롭게 추가된 'r3','r4' 인덱스에 해당하는 모든 열에 대해 NAN 값이 입력된다. 이럴 경우, 데이터가 존재하지 않는 다는 뜻의 NAN대신 유효한 값으로 채우려면 fill_value 옵션에 원하는 값(0)을 입력한다. NAN은 \"Not a Number\"라는 뜻이다. 유효한 값이 존재하니 않는 누락데이터를 말한다."
   ]
  },
  {
   "cell_type": "code",
   "execution_count": 2,
   "id": "07371f88",
   "metadata": {},
   "outputs": [
    {
     "name": "stdout",
     "output_type": "stream",
     "text": [
      "    c0  c1  c2  c3  c4\n",
      "r0   1   4   7  10  13\n",
      "r1   2   5   8  11  14\n",
      "r2   3   6   9  12  15\n",
      "\n",
      "\n",
      "     c0   c1   c2    c3    c4\n",
      "r0  1.0  4.0  7.0  10.0  13.0\n",
      "r1  2.0  5.0  8.0  11.0  14.0\n",
      "r2  3.0  6.0  9.0  12.0  15.0\n",
      "r3  NaN  NaN  NaN   NaN   NaN\n",
      "r4  NaN  NaN  NaN   NaN   NaN\n",
      "\n",
      "\n",
      "    c0  c1  c2  c3  c4\n",
      "r0   1   4   7  10  13\n",
      "r1   2   5   8  11  14\n",
      "r2   3   6   9  12  15\n",
      "r3   0   0   0   0   0\n",
      "r4   0   0   0   0   0\n"
     ]
    }
   ],
   "source": [
    "import pandas as pd\n",
    "\n",
    "#딕셔너리 정의\n",
    "dict_data={'c0':[1,2,3],\n",
    "          'c1':[4,5,6],\n",
    "          'c2':[7,8,9],\n",
    "          'c3':[10,11,12],\n",
    "          'c4':[13,14,15]}\n",
    "\n",
    "#딕셔너리를 데이터프레임으로 변환. 인덱스를 [r0,r1,r2]로 지정\n",
    "df=pd.DataFrame(dict_data,index=['r0','r1','r2'])\n",
    "print(df)\n",
    "print('\\n')\n",
    "\n",
    "new_index=['r0','r1','r2','r3','r4']\n",
    "ndf=df.reindex(new_index)\n",
    "print(ndf)\n",
    "print('\\n')\n",
    "\n",
    "#reindex로 발생한 NAN값을 숫자로 채우기\n",
    "ndf2=df.reindex(new_index, fill_value=0)\n",
    "print(ndf2)"
   ]
  },
  {
   "cell_type": "markdown",
   "id": "84038a0c",
   "metadata": {},
   "source": [
    "### 예제 1-18. reset_index()"
   ]
  },
  {
   "cell_type": "code",
   "execution_count": 3,
   "id": "f53fa9c8",
   "metadata": {},
   "outputs": [
    {
     "name": "stdout",
     "output_type": "stream",
     "text": [
      "    c0  c1  c2  c3  c4\n",
      "r0   1   4   7  10  13\n",
      "r1   2   5   8  11  14\n",
      "r2   3   6   9  12  15\n",
      "\n",
      "\n",
      "  index  c0  c1  c2  c3  c4\n",
      "0    r0   1   4   7  10  13\n",
      "1    r1   2   5   8  11  14\n",
      "2    r2   3   6   9  12  15\n"
     ]
    }
   ],
   "source": [
    "import pandas as pd\n",
    "\n",
    "#딕셔너리 정의\n",
    "dict_data={'c0':[1,2,3],\n",
    "          'c1':[4,5,6],\n",
    "          'c2':[7,8,9],\n",
    "          'c3':[10,11,12],\n",
    "          'c4':[13,14,15]}\n",
    "\n",
    "#딕셔너리를 데이터프레임으로 변환. 인덱스를 [r0,r1,r2]로 지정\n",
    "df=pd.DataFrame(dict_data,index=['r0','r1','r2'])\n",
    "print(df)\n",
    "print('\\n')\n",
    "\n",
    "#행 인덱스를 정수형으로 초기화\n",
    "ndf = df.reset_index()\n",
    "print(ndf)"
   ]
  },
  {
   "cell_type": "markdown",
   "id": "b83d912f",
   "metadata": {},
   "source": [
    "### 예제1-19. 행 인덱스를 기준으로 데이터 정렬"
   ]
  },
  {
   "cell_type": "code",
   "execution_count": 4,
   "id": "8277bc6b",
   "metadata": {},
   "outputs": [
    {
     "name": "stdout",
     "output_type": "stream",
     "text": [
      "    c0  c1  c2  c3  c4\n",
      "r0   1   4   7  10  13\n",
      "r1   2   5   8  11  14\n",
      "r2   3   6   9  12  15\n",
      "\n",
      "\n",
      "    c0  c1  c2  c3  c4\n",
      "r2   3   6   9  12  15\n",
      "r1   2   5   8  11  14\n",
      "r0   1   4   7  10  13\n"
     ]
    }
   ],
   "source": [
    "import pandas as pd\n",
    "\n",
    "#딕셔너리 정의\n",
    "dict_data={'c0':[1,2,3],\n",
    "          'c1':[4,5,6],\n",
    "          'c2':[7,8,9],\n",
    "          'c3':[10,11,12],\n",
    "          'c4':[13,14,15]}\n",
    "\n",
    "#딕셔너리를 데이터프레임으로 변환. 인덱스를 [r0,r1,r2]로 지정\n",
    "df=pd.DataFrame(dict_data,index=['r0','r1','r2'])\n",
    "print(df)\n",
    "print('\\n')\n",
    "\n",
    "#내림차순으로 행 인덱스 정렬\n",
    "ndf=df.sort_index(ascending=False)\n",
    "print(ndf)"
   ]
  },
  {
   "cell_type": "markdown",
   "id": "07aaee7f",
   "metadata": {},
   "source": [
    "# 산술연산\n",
    "판다스 객체의 산술연산은 내부적으로 3단계의 프로세스를 거친다.\n",
    "* 행/열 인덱스를 기준으로 모든 원소를 정렬한다.\n",
    "* 동일한 위치에 있는 원소끼리 일대일로 대응시킨다.\n",
    "* 일대일 대응이 되는 원소끼리 연산을 처리한다.(이때, 대응되는 원소가 없으면 NaN으로 처리한다.)"
   ]
  },
  {
   "cell_type": "code",
   "execution_count": 5,
   "id": "4c382b25",
   "metadata": {},
   "outputs": [
    {
     "name": "stdout",
     "output_type": "stream",
     "text": [
      "국어    100\n",
      "영어     80\n",
      "수학     90\n",
      "dtype: int64\n",
      "\n",
      "\n",
      "국어    0.50\n",
      "영어    0.40\n",
      "수학    0.45\n",
      "dtype: float64\n",
      "\n",
      "\n",
      "<class 'pandas.core.series.Series'>\n"
     ]
    }
   ],
   "source": [
    "import pandas as pd\n",
    "\n",
    "#딕셔너리 데이터로 판다스 시리즈 만들기\n",
    "student1 = pd.Series({'국어':100,'영어':80,'수학':90})\n",
    "print(student1)\n",
    "print('\\n')\n",
    "\n",
    "#학생의 과목별 점수를 200으로 나누기\n",
    "percentage = student1/200\n",
    "\n",
    "print(percentage)\n",
    "print('\\n')\n",
    "print(type(percentage))"
   ]
  },
  {
   "cell_type": "markdown",
   "id": "94d378c7",
   "metadata": {},
   "source": [
    "### 예제1-22. 시리즈 연산"
   ]
  },
  {
   "cell_type": "code",
   "execution_count": 6,
   "id": "4bfd9ce5",
   "metadata": {},
   "outputs": [
    {
     "name": "stdout",
     "output_type": "stream",
     "text": [
      "국어    100\n",
      "영어     80\n",
      "수학     90\n",
      "dtype: int64\n",
      "\n",
      "\n",
      "수학    90\n",
      "국어    90\n",
      "영어    80\n",
      "dtype: int64\n",
      "\n",
      "\n",
      "<class 'pandas.core.series.Series'>\n",
      "\n",
      "\n",
      "              국어      수학      영어\n",
      "덧셈    190.000000   180.0   160.0\n",
      "뺄셈     10.000000     0.0     0.0\n",
      "곱셈   9000.000000  8100.0  6400.0\n",
      "나눗셈     1.111111     1.0     1.0\n"
     ]
    }
   ],
   "source": [
    "import pandas as pd\n",
    "\n",
    "#딕셔너리 데이터로 판다스 시리즈 만들기\n",
    "student1 = pd.Series({'국어':100,'영어':80,'수학':90})\n",
    "student2 = pd.Series({'수학':90, '국어':90,'영어':80})\n",
    "\n",
    "print(student1)\n",
    "print('\\n')\n",
    "print(student2)\n",
    "print('\\n')\n",
    "\n",
    "#두 학생의 과목별 점수로 사칙연산 수행\n",
    "addition=student1+student2 #덧셈\n",
    "subtraction=student1-student2 #뺄셈\n",
    "multipulation=student1*student2 #곱셈\n",
    "division=student1/student2 #나눗셈\n",
    "print(type(division))\n",
    "print('\\n')\n",
    "\n",
    "#사칙연산 결과를 데이터프레임으로 합치기(시리즈->데이터프레임)\n",
    "result=pd.DataFrame([addition,subtraction,multipulation,division],index=['덧셈','뺄셈','곱셈','나눗셈'])\n",
    "print(result)"
   ]
  },
  {
   "cell_type": "markdown",
   "id": "95503158",
   "metadata": {},
   "source": [
    "### 예제1-23. NaN을 포함한 시리즈 연산"
   ]
  },
  {
   "cell_type": "code",
   "execution_count": 9,
   "id": "fd2af1bf",
   "metadata": {},
   "outputs": [
    {
     "name": "stdout",
     "output_type": "stream",
     "text": [
      "국어     NaN\n",
      "영어    80.0\n",
      "수학    90.0\n",
      "dtype: float64\n",
      "\n",
      "\n",
      "수학    90\n",
      "국어    90\n",
      "dtype: int64\n",
      "\n",
      "\n",
      "<class 'pandas.core.series.Series'>\n",
      "\n",
      "\n",
      "     국어      수학  영어\n",
      "덧셈  NaN   180.0 NaN\n",
      "뺄셈  NaN     0.0 NaN\n",
      "곱셈  NaN  8100.0 NaN\n",
      "나눗셈 NaN     1.0 NaN\n"
     ]
    }
   ],
   "source": [
    "import pandas as pd\n",
    "import numpy as np\n",
    "\n",
    "#딕셔너리 데이터로 판다스 시리즈 만들기\n",
    "student1 = pd.Series({'국어':np.nan,'영어':80,'수학':90})\n",
    "student2 = pd.Series({'수학':90, '국어':90})\n",
    "\n",
    "print(student1)\n",
    "print('\\n')\n",
    "print(student2)\n",
    "print('\\n')\n",
    "\n",
    "#두 학생의 과목별 점수로 사칙연산 수행\n",
    "addition=student1+student2 #덧셈\n",
    "subtraction=student1-student2 #뺄셈\n",
    "multipulation=student1*student2 #곱셈\n",
    "division=student1/student2 #나눗셈\n",
    "print(type(division))\n",
    "print('\\n')\n",
    "\n",
    "#사칙연산 결과를 데이터프레임으로 합치기(시리즈->데이터프레임)\n",
    "result=pd.DataFrame([addition,subtraction,multipulation,division],index=['덧셈','뺄셈','곱셈','나눗셈'])\n",
    "print(result)"
   ]
  },
  {
   "cell_type": "markdown",
   "id": "1db8b96f",
   "metadata": {},
   "source": [
    "### 예제1-24. 누락 데이터처리"
   ]
  },
  {
   "cell_type": "code",
   "execution_count": 15,
   "id": "70e5ac55",
   "metadata": {},
   "outputs": [
    {
     "name": "stdout",
     "output_type": "stream",
     "text": [
      "국어     NaN\n",
      "영어    80.0\n",
      "수학    90.0\n",
      "dtype: float64\n",
      "\n",
      "\n",
      "수학    90\n",
      "국어    90\n",
      "dtype: int64\n",
      "\n",
      "\n",
      "       국어      수학    영어\n",
      "덧셈   90.0   180.0  80.0\n",
      "뺄셈  -90.0     0.0  80.0\n",
      "곱셈    0.0  8100.0   0.0\n",
      "나눗셈   0.0     1.0   inf\n"
     ]
    }
   ],
   "source": [
    "import pandas as pd\n",
    "import numpy as np\n",
    "\n",
    "#딕셔너리 데이터로 판다스 시리즈 만들기\n",
    "student1 = pd.Series({'국어':np.nan,'영어':80,'수학':90})\n",
    "student2 = pd.Series({'수학':90, '국어':90})\n",
    "\n",
    "print(student1)\n",
    "print('\\n')\n",
    "print(student2)\n",
    "print('\\n')\n",
    "\n",
    "# 두 학생의 과목별 점수로 사칙연산 수행(연산 메소드 사용)\n",
    "sr_add=student1.add(student2, fill_value=0) #덧셈\n",
    "sr_sub=student1.sub(student2, fill_value=0) #뺄셈\n",
    "sr_mul=student1.mul(student2, fill_value=0) #곱셈\n",
    "sr_div=student1.div(student2, fill_value=0) #나눗셈\n",
    "\n",
    "# 사칙 연산 결과를 데이터프레임으로 합치기(시리즈->데이터프레임)\n",
    "result = pd.DataFrame([sr_add,sr_sub,sr_mul,sr_div],index=['덧셈','뺄셈','곱셈','나눗셈'])\n",
    "print(result)"
   ]
  },
  {
   "cell_type": "markdown",
   "id": "a9a5c850",
   "metadata": {},
   "source": [
    "### 예제1-25. 데이터프레임 연산"
   ]
  },
  {
   "cell_type": "code",
   "execution_count": 18,
   "id": "bb27ae83",
   "metadata": {},
   "outputs": [
    {
     "name": "stdout",
     "output_type": "stream",
     "text": [
      "    age     fare\n",
      "0  22.0   7.2500\n",
      "1  38.0  71.2833\n",
      "2  26.0   7.9250\n",
      "3  35.0  53.1000\n",
      "4  35.0   8.0500\n",
      "\n",
      "\n",
      "<class 'pandas.core.frame.DataFrame'>\n",
      "\n",
      "\n",
      "    age     fare\n",
      "0  32.0  17.2500\n",
      "1  48.0  81.2833\n",
      "2  36.0  17.9250\n",
      "3  45.0  63.1000\n",
      "4  45.0  18.0500\n",
      "\n",
      "\n",
      "<class 'pandas.core.frame.DataFrame'>\n",
      "    age  fare\n",
      "0  10.0  10.0\n",
      "1  10.0  10.0\n",
      "2  10.0  10.0\n",
      "3  10.0  10.0\n",
      "4  10.0  10.0\n",
      "\n",
      "\n",
      "<class 'pandas.core.frame.DataFrame'>\n"
     ]
    }
   ],
   "source": [
    "import pandas as pd\n",
    "import seaborn as sns\n",
    "\n",
    "#titanic 데이터셋에서 age,fare 2개의 열을 선택하여 데이터프레임 만들기\n",
    "titanic=sns.load_dataset('titanic')\n",
    "df=titanic.loc[:,['age','fare']]\n",
    "print(df.head())\n",
    "print('\\n')\n",
    "print(type(df))\n",
    "print('\\n')\n",
    "\n",
    "#데이터프레임에 숫자 10 더하기\n",
    "addition = df+10\n",
    "print(addition.head())\n",
    "print('\\n')\n",
    "print(type(addition))\n",
    "\n",
    "#데이터프레임끼리 연산하기\n",
    "subtraction=addition-df\n",
    "print(subtraction.head())\n",
    "print('\\n')\n",
    "print(type(subtraction))"
   ]
  },
  {
   "cell_type": "code",
   "execution_count": null,
   "id": "73e12d0a",
   "metadata": {},
   "outputs": [],
   "source": []
  }
 ],
 "metadata": {
  "kernelspec": {
   "display_name": "Python 3",
   "language": "python",
   "name": "python3"
  },
  "language_info": {
   "codemirror_mode": {
    "name": "ipython",
    "version": 3
   },
   "file_extension": ".py",
   "mimetype": "text/x-python",
   "name": "python",
   "nbconvert_exporter": "python",
   "pygments_lexer": "ipython3",
   "version": "3.8.8"
  },
  "toc": {
   "base_numbering": 1,
   "nav_menu": {},
   "number_sections": true,
   "sideBar": true,
   "skip_h1_title": false,
   "title_cell": "Table of Contents",
   "title_sidebar": "Contents",
   "toc_cell": false,
   "toc_position": {},
   "toc_section_display": true,
   "toc_window_display": true
  }
 },
 "nbformat": 4,
 "nbformat_minor": 5
}
