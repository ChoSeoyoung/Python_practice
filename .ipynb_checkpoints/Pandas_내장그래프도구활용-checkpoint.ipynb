{
 "cells": [
  {
   "cell_type": "markdown",
   "id": "edf80e62",
   "metadata": {},
   "source": [
    "# 판다스 내장 그래프 도구\n",
    "판다스 그래프 도구 사용 방법\n",
    "-시리즈 또는 데이터프레임 객체에 plot() 메소드를 적용하고, kind옵션으로 그래프 종류를 선택한다.\n",
    "* line: 선그래프\n",
    "* bar: 수직막대그래프\n",
    "* barh: 수평막대그래프\n",
    "* his: 히스토그램\n",
    "* box: 박스플롯\n",
    "* kde: 커널 밀도 그래프\n",
    "* area: 면적 그래프\n",
    "* pie: 파이 그래프\n",
    "* scatter: 산점도 그래프\n",
    "* hexbin: 고밀도 산점도 그래프"
   ]
  },
  {
   "cell_type": "markdown",
   "id": "4359ce52",
   "metadata": {},
   "source": [
    "DataFrame.plot(kind=\"line\",x=column,y=columns,color=color)"
   ]
  },
  {
   "cell_type": "markdown",
   "id": "4b69e6c2",
   "metadata": {},
   "source": [
    "### 예제 3-4. 선그래프"
   ]
  },
  {
   "cell_type": "code",
   "execution_count": null,
   "id": "80de3155",
   "metadata": {},
   "outputs": [],
   "source": [
    "import pandas as pd\n",
    "\n",
    "df = pd.read_excel('')"
   ]
  }
 ],
 "metadata": {
  "kernelspec": {
   "display_name": "Python 3",
   "language": "python",
   "name": "python3"
  },
  "language_info": {
   "codemirror_mode": {
    "name": "ipython",
    "version": 3
   },
   "file_extension": ".py",
   "mimetype": "text/x-python",
   "name": "python",
   "nbconvert_exporter": "python",
   "pygments_lexer": "ipython3",
   "version": "3.8.8"
  },
  "toc": {
   "base_numbering": 1,
   "nav_menu": {},
   "number_sections": true,
   "sideBar": true,
   "skip_h1_title": false,
   "title_cell": "Table of Contents",
   "title_sidebar": "Contents",
   "toc_cell": false,
   "toc_position": {},
   "toc_section_display": true,
   "toc_window_display": false
  }
 },
 "nbformat": 4,
 "nbformat_minor": 5
}
