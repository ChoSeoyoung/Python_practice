{
 "cells": [
  {
   "cell_type": "markdown",
   "id": "05efe986",
   "metadata": {},
   "source": [
    "# 시리즈(Series)와 데이터프레임(DataFrame)\n",
    "* 시리즈는 1차원 배열이고, 데이터프레임은 2차원 배열"
   ]
  },
  {
   "cell_type": "markdown",
   "id": "063af942",
   "metadata": {},
   "source": [
    "## 시리즈\n",
    "* 딕셔너리와 시리즈와 구조가 비슷하기 때문에, 딕셔너리를 시리즈로 변환하는 방법을 많이 사용"
   ]
  },
  {
   "cell_type": "markdown",
   "id": "ddf0c35a",
   "metadata": {},
   "source": [
    "### 예제1-1\n",
    "* 딕셔너리를 시리즈로 변환해 본다. {'a':1,'b':2,'c':3}와 같이 'k:v' 구조를 갖는 딕셔너리를 정의하여 변수 dict_data에 저장한다. 변수 dict_data에 저장되어 있는 딕셔너리를 Series() 함수의 인자로 전달하면, 시리즈로 변환한다. Series() 함수가 반환한 시리즈 객체를 변수 sr에 저장한다."
   ]
  },
  {
   "cell_type": "code",
   "execution_count": null,
   "id": "919b65c4",
   "metadata": {},
   "outputs": [],
   "source": [
    "#pandas 불러오기\n",
    "import pandas as pd\n",
    "\n",
    "#key:value 쌍으로 딕셔너리를 만들고, 변수 dict_data에 저장\n",
    "dict_data={'a':1,'b':2,'c':3}\n",
    "\n",
    "#판다스 Series() 함수로 dictionary를 Series로 변환. 변수 sr에 저장\n",
    "sr=Series(dict_data)\n",
    "\n"
   ]
  }
 ],
 "metadata": {
  "kernelspec": {
   "display_name": "Python 3",
   "language": "python",
   "name": "python3"
  },
  "language_info": {
   "codemirror_mode": {
    "name": "ipython",
    "version": 3
   },
   "file_extension": ".py",
   "mimetype": "text/x-python",
   "name": "python",
   "nbconvert_exporter": "python",
   "pygments_lexer": "ipython3",
   "version": "3.8.8"
  },
  "toc": {
   "base_numbering": 1,
   "nav_menu": {},
   "number_sections": true,
   "sideBar": true,
   "skip_h1_title": false,
   "title_cell": "Table of Contents",
   "title_sidebar": "Contents",
   "toc_cell": false,
   "toc_position": {},
   "toc_section_display": true,
   "toc_window_display": true
  }
 },
 "nbformat": 4,
 "nbformat_minor": 5
}
