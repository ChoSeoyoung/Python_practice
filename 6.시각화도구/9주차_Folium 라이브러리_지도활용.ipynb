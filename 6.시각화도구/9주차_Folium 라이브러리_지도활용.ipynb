{
 "cells": [
  {
   "cell_type": "markdown",
   "id": "92e10297",
   "metadata": {},
   "source": [
    "# Folium 라이브러리-지도활용"
   ]
  },
  {
   "cell_type": "code",
   "execution_count": 1,
   "id": "6e3b92da",
   "metadata": {},
   "outputs": [],
   "source": [
    "#라이브러리 불러오기\n",
    "import folium\n",
    "\n",
    "#서울 지도 만들기\n",
    "seoul_map = folium.Map(location=[37.55,126.98],zoom_start=12)\n",
    "\n",
    "#지도를 HTML 파일로 저장하기\n",
    "seoul_map.save('./seoul.html')"
   ]
  },
  {
   "cell_type": "markdown",
   "id": "09bcf172",
   "metadata": {},
   "source": [
    "## 지도 스타일 적용하기"
   ]
  },
  {
   "cell_type": "code",
   "execution_count": 2,
   "id": "f1f53e93",
   "metadata": {},
   "outputs": [],
   "source": [
    "#라이브러리 불러오기\n",
    "import folium\n",
    "\n",
    "#서울 지도 만들기\n",
    "seoul_map2 = folium.Map(location=[37.55,126.98],tiles='Stamen Terrain',zoom_start=12)\n",
    "seoul_map3 = folium.Map(location=[37.55,126.98],tiles='Stamen Toner',zoom_start=15)\n",
    "\n",
    "#지도를 HTML 파일로 저장하기\n",
    "seoul_map2.save('./seoul2.html')\n",
    "seoul_map3.save('./seoul3.html')"
   ]
  },
  {
   "cell_type": "markdown",
   "id": "bfd541ff",
   "metadata": {},
   "source": [
    "## 지도에 마커 표시하기"
   ]
  },
  {
   "cell_type": "code",
   "execution_count": 3,
   "id": "2e7ced27",
   "metadata": {},
   "outputs": [],
   "source": [
    "#라이브러리 불러오기\n",
    "import folium\n",
    "import pandas as pd\n",
    "\n",
    "#대학교 리스트를 데이터프레임으로 변환\n",
    "df = pd.read_excel('./서울지역 대학교 위치.xlsx')\n",
    "\n",
    "#서울 지도 만들기\n",
    "seoul_map = folium.Map(location=[37.55,126.98],tiles='Stamen Terrain',zoom_start=12)\n",
    "\n",
    "#대학교 위치 정보를 Marker로 표시\n",
    "for name,lat,lng in zip(df.대학, df.위도, df.경도):\n",
    "    folium.Marker([lat,lng],popup=name).add_to(seoul_map)\n",
    "    \n",
    "#지도를 HTML파일로 저장하기\n",
    "seoul_map.save('./seoul_college.html')"
   ]
  },
  {
   "cell_type": "markdown",
   "id": "5a4a1c24",
   "metadata": {},
   "source": [
    "## 지도에 마커 표시하기-스타일 적용"
   ]
  },
  {
   "cell_type": "code",
   "execution_count": 4,
   "id": "a0584e8b",
   "metadata": {},
   "outputs": [],
   "source": [
    "#라이브러리 불러오기\n",
    "import folium\n",
    "import pandas as pd\n",
    "\n",
    "#대학교 리스트를 데이터프레임으로 변환\n",
    "df = pd.read_excel('./서울지역 대학교 위치.xlsx')\n",
    "\n",
    "#서울 지도 만들기\n",
    "seoul_map = folium.Map(location=[37.55,126.98],tiles='Stamen Terrain',zoom_start=12)\n",
    "\n",
    "#대학교 위치 정보를 Marker로 표시\n",
    "for name,lat,lng in zip(df.대학, df.위도, df.경도):\n",
    "    folium.CircleMarker([lat,lng],\n",
    "                        radius=10, #원의 반지름\n",
    "                        color='brown', #원의 둘레 색상\n",
    "                        fill=True,\n",
    "                        fill_color='coral', #원을 채우는 색\n",
    "                        fill_opacity=0.7, #투명도\n",
    "                        popup=name).add_to(seoul_map)\n",
    "    \n",
    "#지도를 HTML파일로 저장하기\n",
    "seoul_map.save('./seoul_college2.html')"
   ]
  },
  {
   "cell_type": "markdown",
   "id": "fe131b4d",
   "metadata": {},
   "source": [
    "## 지도 영역에 단계구분도(Choropleth Map) 표시하기"
   ]
  },
  {
   "cell_type": "code",
   "execution_count": 5,
   "id": "1f50c094",
   "metadata": {},
   "outputs": [],
   "source": [
    "#라이브러리 불러오기\n",
    "import pandas as pd\n",
    "import folium\n",
    "import json\n",
    "\n",
    "#경기도 인구변화 데이터를 불러와서 데이터프레임으로 변환\n",
    "df=pd.read_excel('경기도인구데이터.xlsx',index_col='구분')\n",
    "df.columns=df.columns.map(str)\n",
    "\n",
    "#경기도 시군구 경계 정보를 가진 geo-json 파일 불러오기\n",
    "try:\n",
    "    geo_data=json.load(open('경기도행정구역경계.json',encoding='utf-8'))\n",
    "except:\n",
    "    geo_data=json.load(open('경기도행정구역경계.json',encoding='utf-8-sig'))\n",
    "\n",
    "#경기도 지도 만들기\n",
    "g_map = folium.Map(location=[37.5502, 126.982],tiles='Stamen Terrain',zoom_start=9)\n",
    "\n",
    "#출력할 연도 선택(2007~2017년 중에서 선택)\n",
    "year='2007'\n",
    "\n",
    "#Choropleth 클래스로 단계구분도 표시하기\n",
    "folium.Choropleth(geo_data=geo_data, #지도 경계\n",
    "                  data=df[year], #표시하려는 데이터\n",
    "                  columns=[df.index,df[year]], #열 지정\n",
    "                  fill_color='YlOrRd',\n",
    "                  fill_opacity=0.7,\n",
    "                  line_opacity=0.3,\n",
    "                  threshod_scale=[10000,100000,300000,500000,700000],\n",
    "                  key_on='feature.properties.name').add_to(g_map)\n",
    "\n",
    "#지도를 HTML 파일로 저장힉\n",
    "g_map.save('./gyonggi_population'+year+'.html')"
   ]
  },
  {
   "cell_type": "code",
   "execution_count": null,
   "id": "e6de1aeb",
   "metadata": {},
   "outputs": [],
   "source": []
  }
 ],
 "metadata": {
  "kernelspec": {
   "display_name": "Python 3",
   "language": "python",
   "name": "python3"
  },
  "language_info": {
   "codemirror_mode": {
    "name": "ipython",
    "version": 3
   },
   "file_extension": ".py",
   "mimetype": "text/x-python",
   "name": "python",
   "nbconvert_exporter": "python",
   "pygments_lexer": "ipython3",
   "version": "3.8.8"
  },
  "toc": {
   "base_numbering": 1,
   "nav_menu": {},
   "number_sections": true,
   "sideBar": true,
   "skip_h1_title": false,
   "title_cell": "Table of Contents",
   "title_sidebar": "Contents",
   "toc_cell": false,
   "toc_position": {},
   "toc_section_display": true,
   "toc_window_display": false
  }
 },
 "nbformat": 4,
 "nbformat_minor": 5
}
