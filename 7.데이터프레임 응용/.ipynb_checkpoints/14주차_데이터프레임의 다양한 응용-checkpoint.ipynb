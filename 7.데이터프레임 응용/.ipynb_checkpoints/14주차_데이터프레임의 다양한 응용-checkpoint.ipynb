{
 "cells": [
  {
   "cell_type": "markdown",
   "id": "249d8358",
   "metadata": {},
   "source": [
    "# 함수매핑"
   ]
  },
  {
   "cell_type": "markdown",
   "id": "35cadde5",
   "metadata": {},
   "source": [
    "## 개별 원소에 함수 매핑"
   ]
  },
  {
   "cell_type": "markdown",
   "id": "8736a5b7",
   "metadata": {},
   "source": [
    "## 시리즈 객체에 함수 매핑"
   ]
  },
  {
   "cell_type": "markdown",
   "id": "dbf9db5c",
   "metadata": {},
   "source": [
    "### 예제 6-1. 시리즈 원소에 apply()적용\n",
    "titanic 데이터셋에서 숫자 데이터로 구성된 2개의 열('age','fare')을 선택하고, 숫자 10만을 원소 값으로 갖는 새로운 열('ten')을 추가한다."
   ]
  },
  {
   "cell_type": "code",
   "execution_count": 4,
   "id": "929a1c3f",
   "metadata": {},
   "outputs": [
    {
     "name": "stdout",
     "output_type": "stream",
     "text": [
      "    age     fare  ten\n",
      "0  22.0   7.2500   10\n",
      "1  38.0  71.2833   10\n",
      "2  26.0   7.9250   10\n",
      "3  35.0  53.1000   10\n",
      "4  35.0   8.0500   10\n"
     ]
    }
   ],
   "source": [
    "#라이브러리 불러오기\n",
    "import seaborn as sns\n",
    "\n",
    "#titanic 데이터셋에서 age,fare 2개의 열을 선택하여 데이터프레임 만들기\n",
    "titanic=sns.load_dataset('titanic')\n",
    "df=titanic.loc[:,['age','fare']]\n",
    "df['ten']=10\n",
    "print(df.head())"
   ]
  },
  {
   "cell_type": "markdown",
   "id": "ecfab9f9",
   "metadata": {},
   "source": [
    "apply()메소드를 이용하여 df['age']열에 add_10 함수를 매핑하면 모든 원소에 숫자 10을 더한다. 이 결과를 변수 sr1에 저장한다. add_two_obj\n",
    "함수를 df['age']열에 매핑하면 함께 전달된 숫자 10을 모든 원소에 더하는데, 결과를 변수 sr2에 저장한다. 마지막으로 lambda함수를 df['age']\n",
    "열에 매핑하여 add_10 함수의 리턴값을 sr3에 저장한다."
   ]
  },
  {
   "cell_type": "code",
   "execution_count": 5,
   "id": "05248242",
   "metadata": {},
   "outputs": [
    {
     "name": "stdout",
     "output_type": "stream",
     "text": [
      "0    32.0\n",
      "1    48.0\n",
      "2    36.0\n",
      "3    45.0\n",
      "4    45.0\n",
      "Name: age, dtype: float64\n",
      "\n",
      "\n",
      "0    32.0\n",
      "1    48.0\n",
      "2    36.0\n",
      "3    45.0\n",
      "4    45.0\n",
      "Name: age, dtype: float64\n",
      "\n",
      "\n",
      "0    32.0\n",
      "1    48.0\n",
      "2    36.0\n",
      "3    45.0\n",
      "4    45.0\n",
      "Name: age, dtype: float64\n"
     ]
    }
   ],
   "source": [
    "#사용자 함수 정의\n",
    "def add_10(n):\n",
    "    return n+10\n",
    "\n",
    "def add_two_obj(a,b):\n",
    "    return a+b\n",
    "\n",
    "#시리즈 객체에 적용\n",
    "sr1=df['age'].apply(add_10)\n",
    "print(sr1.head())\n",
    "print('\\n')\n",
    "\n",
    "#시리즈 객체와 숫자에 적용: 2개의 인수(시리즈+숫자)\n",
    "sr2=df['age'].apply(add_two_obj, b=10)\n",
    "print(sr2.head())\n",
    "print('\\n')\n",
    "\n",
    "#lambda 함수 활용: 시리즈 객체에 적용\n",
    "sr3=df['age'].apply(lambda x:add_10(x))\n",
    "print(sr3.head())"
   ]
  },
  {
   "cell_type": "markdown",
   "id": "14a05b52",
   "metadata": {},
   "source": [
    "## 데이터프레임 객체에 함수 매핑"
   ]
  },
  {
   "cell_type": "markdown",
   "id": "fac06582",
   "metadata": {},
   "source": [
    "### 에졔 6-2. 데이터프레임 원소에 applymap() 적용"
   ]
  },
  {
   "cell_type": "code",
   "execution_count": 7,
   "id": "2dd42c78",
   "metadata": {},
   "outputs": [
    {
     "name": "stdout",
     "output_type": "stream",
     "text": [
      "    age     fare\n",
      "0  22.0   7.2500\n",
      "1  38.0  71.2833\n",
      "2  26.0   7.9250\n",
      "3  35.0  53.1000\n",
      "4  35.0   8.0500\n",
      "\n",
      "\n",
      "    age     fare\n",
      "0  32.0  17.2500\n",
      "1  48.0  81.2833\n",
      "2  36.0  17.9250\n",
      "3  45.0  63.1000\n",
      "4  45.0  18.0500\n"
     ]
    }
   ],
   "source": [
    "#라이브러리 불러오기\n",
    "import seaborn as sns\n",
    "\n",
    "#titanic 데이터셋에서 age,fare 2개의 열을 선택하여 데이터프레임 만들기\n",
    "titanic=sns.load_dataset('titanic')\n",
    "df=titanic.loc[:,['age','fare']]\n",
    "print(df.head())\n",
    "print('\\n')\n",
    "\n",
    "#사용자 함수 정의\n",
    "def add_10(n):\n",
    "    return n+10\n",
    "\n",
    "#데이터프레임에 applymap()으로 add_10() 함수를 매핑 적용\n",
    "df_map = df.applymap(add_10)\n",
    "print(df_map.head())"
   ]
  },
  {
   "cell_type": "markdown",
   "id": "0d60ec83",
   "metadata": {},
   "source": [
    "### 예제 6-3. 데이터프레임의 각 여레 함수 매핑"
   ]
  },
  {
   "cell_type": "code",
   "execution_count": 8,
   "id": "4ef009cd",
   "metadata": {},
   "outputs": [
    {
     "name": "stdout",
     "output_type": "stream",
     "text": [
      "    age     fare\n",
      "0  22.0   7.2500\n",
      "1  38.0  71.2833\n",
      "2  26.0   7.9250\n",
      "3  35.0  53.1000\n",
      "4  35.0   8.0500\n",
      "\n",
      "\n",
      "     age   fare\n",
      "0  False  False\n",
      "1  False  False\n",
      "2  False  False\n",
      "3  False  False\n",
      "4  False  False\n",
      "\n",
      "\n",
      "<class 'pandas.core.frame.DataFrame'>\n"
     ]
    }
   ],
   "source": [
    "#라이브러리 불러오기\n",
    "import seaborn as sns\n",
    "\n",
    "#titanic 데이터셋에서 age,fare 2개의 열을 선택하여 데이터프레임 만들기\n",
    "titanic=sns.load_dataset('titanic')\n",
    "df=titanic.loc[:,['age','fare']]\n",
    "print(df.head())\n",
    "print('\\n')\n",
    "\n",
    "#사용자 함수 정의\n",
    "def missing_value(series):\n",
    "    return series.isnull()\n",
    "\n",
    "#데이터프레임의 각 열을 인자로 전달하면 데이터프레임을 반환\n",
    "result = df.apply(missing_value, axis=0)\n",
    "print(result.head())\n",
    "print('\\n')\n",
    "print(type(result))"
   ]
  },
  {
   "cell_type": "markdown",
   "id": "ae93cbb9",
   "metadata": {},
   "source": [
    "### 예제 6-4. 데이터프레임의 각 열에 함수 매핑"
   ]
  },
  {
   "cell_type": "code",
   "execution_count": 9,
   "id": "83128432",
   "metadata": {},
   "outputs": [
    {
     "name": "stdout",
     "output_type": "stream",
     "text": [
      "    age     fare\n",
      "0  22.0   7.2500\n",
      "1  38.0  71.2833\n",
      "2  26.0   7.9250\n",
      "3  35.0  53.1000\n",
      "4  35.0   8.0500\n",
      "\n",
      "\n",
      "age      79.5800\n",
      "fare    512.3292\n",
      "dtype: float64\n",
      "\n",
      "\n",
      "<class 'pandas.core.series.Series'>\n"
     ]
    }
   ],
   "source": [
    "#라이브러리 불러오기\n",
    "import seaborn as sns\n",
    "\n",
    "#titanic 데이터셋에서 age,fare 2개의 열을 선택하여 데이터프레임 만들기\n",
    "titanic=sns.load_dataset('titanic')\n",
    "df=titanic.loc[:,['age','fare']]\n",
    "print(df.head())\n",
    "print('\\n')\n",
    "\n",
    "#사용자 함수 정의\n",
    "def min_max(x):\n",
    "    return x.max()-x.min()\n",
    "\n",
    "#데이터프레임의 각 열을 인자로 전달하면 데이터프레임을 반환\n",
    "result = df.apply(min_max) #기본값 axis=0\n",
    "print(result.head())\n",
    "print('\\n')\n",
    "print(type(result))"
   ]
  },
  {
   "cell_type": "markdown",
   "id": "de550a8d",
   "metadata": {},
   "source": [
    "### 예제 6-5. 데이터프레임에 apply() 적용"
   ]
  },
  {
   "cell_type": "code",
   "execution_count": 13,
   "id": "5e36ba50",
   "metadata": {},
   "outputs": [
    {
     "name": "stdout",
     "output_type": "stream",
     "text": [
      "    age     fare  ten\n",
      "0  22.0   7.2500   10\n",
      "1  38.0  71.2833   10\n",
      "2  26.0   7.9250   10\n",
      "3  35.0  53.1000   10\n",
      "4  35.0   8.0500   10\n",
      "\n",
      "\n",
      "    age     fare  ten\n",
      "0  32.0   7.2500   10\n",
      "1  48.0  71.2833   10\n",
      "2  36.0   7.9250   10\n",
      "3  45.0  53.1000   10\n",
      "4  45.0   8.0500   10\n"
     ]
    }
   ],
   "source": [
    "#라이브러리 불러오기\n",
    "import seaborn as sns\n",
    "\n",
    "#titanic 데이터셋에서 age,fare 2개의 열을 선택하여 데이터프레임 만들기\n",
    "titanic=sns.load_dataset('titanic')\n",
    "df=titanic.loc[:,['age','fare']]\n",
    "df['ten']=10\n",
    "print(df.head())\n",
    "print('\\n')\n",
    "\n",
    "#사용자 함수 정의\n",
    "def add_two_obj(a,b):\n",
    "    return a+b\n",
    "\n",
    "#데이터프레임의 2개의 열을 선택하여 적용\n",
    "#x=df, a=df['age'], b=df['ten']\n",
    "df['age']=df.apply(lambda x:add_two_obj(x['age'],x['ten']),axis=1)\n",
    "print(df.head())"
   ]
  },
  {
   "cell_type": "markdown",
   "id": "410176ec",
   "metadata": {},
   "source": [
    "### 예제 6-6. 데이터프레임에 pipe() 적용"
   ]
  },
  {
   "cell_type": "code",
   "execution_count": 19,
   "id": "bd4efb13",
   "metadata": {},
   "outputs": [
    {
     "name": "stdout",
     "output_type": "stream",
     "text": [
      "     age   fare\n",
      "0  False  False\n",
      "1  False  False\n",
      "2  False  False\n",
      "3  False  False\n",
      "4  False  False\n",
      "\n",
      "\n",
      "age     177\n",
      "fare      0\n",
      "dtype: int64\n",
      "\n",
      "\n",
      "177\n",
      "\n",
      "\n"
     ]
    }
   ],
   "source": [
    "# 라이브러리 불러오기\n",
    "import seaborn as sns\n",
    "\n",
    "#titanic 데이터셋에서 age, fare 2개의 열을 선택하여 데이터프레임 만들기\n",
    "titanic=sns.load_dataset('titanic')\n",
    "df=titanic.loc[:,['age','fare']]\n",
    "\n",
    "#각 열의 NAN 찾기 - 데이터프레임 전달하면 데이터프레임 반환\n",
    "def missing_value(x):\n",
    "    return x.isnull()\n",
    "\n",
    "#각 열의 NAN 개수 반환 - 데이터프레임 전달하면 시리즈 반환\n",
    "def missing_count(x):\n",
    "    return missing_value(x).sum()\n",
    "\n",
    "#데이터프레임의 총 NAN 개수 - 데이터프레임 전달하면 값 반환\n",
    "def total_number_missing(x):\n",
    "    return missing_count(x).sum()\n",
    "\n",
    "#데이터프레임에 pipe() 메소드로 함수 매핑\n",
    "result_df=df.pipe(missing_value)\n",
    "print(result_df.head())\n",
    "print('\\n')\n",
    "\n",
    "result_series=df.pipe(missing_count)\n",
    "print(result_series.head())\n",
    "print('\\n')\n",
    "\n",
    "result_value=df.pipe(total_number_missing)\n",
    "print(result_value)\n",
    "print('\\n')"
   ]
  },
  {
   "cell_type": "markdown",
   "id": "b45eaa54",
   "metadata": {},
   "source": [
    "# 열 재구성"
   ]
  },
  {
   "cell_type": "markdown",
   "id": "35ce1881",
   "metadata": {},
   "source": [
    "## 열 순서 변경"
   ]
  },
  {
   "cell_type": "markdown",
   "id": "bc4812d1",
   "metadata": {},
   "source": [
    "### 예제 6-7. 열 순서 바꾸기"
   ]
  },
  {
   "cell_type": "code",
   "execution_count": 21,
   "id": "1fb6d777",
   "metadata": {},
   "outputs": [
    {
     "name": "stdout",
     "output_type": "stream",
     "text": [
      "   survived  pclass     sex   age\n",
      "0         0       3    male  22.0\n",
      "1         1       1  female  38.0\n",
      "2         1       3  female  26.0\n",
      "3         1       1  female  35.0\n",
      "4         0       3    male  35.0 \n",
      "\n",
      "['survived', 'pclass', 'sex', 'age'] \n",
      "\n",
      "    age  pclass     sex  survived\n",
      "0  22.0       3    male         0\n",
      "1  38.0       1  female         1\n",
      "2  26.0       3  female         1\n",
      "3  35.0       1  female         1\n",
      "4  35.0       3    male         0 \n",
      "\n",
      "    age     sex  pclass  survived\n",
      "0  22.0    male       3         0\n",
      "1  38.0  female       1         1\n",
      "2  26.0  female       3         1\n",
      "3  35.0  female       1         1\n",
      "4  35.0    male       3         0 \n",
      "\n",
      "   pclass     sex   age  survived\n",
      "0       3    male  22.0         0\n",
      "1       1  female  38.0         1\n",
      "2       3  female  26.0         1\n",
      "3       1  female  35.0         1\n",
      "4       3    male  35.0         0\n"
     ]
    }
   ],
   "source": [
    "#라이브러리 불러오기\n",
    "import seaborn as sns\n",
    "\n",
    "#titanic 데이터셋의 부분을 선택하여 데이터프레임 만들기\n",
    "titanic=sns.load_dataset('titanic')\n",
    "df = titanic.loc[0:4,'survived':'age']\n",
    "print(df,'\\n')\n",
    "\n",
    "#열 이름의 리스트 만들기\n",
    "columns = list(df.columns.values)\n",
    "print(columns, '\\n')\n",
    "\n",
    "#열 이름을 알파벳 순으로 정렬하기\n",
    "columns_sorted = sorted(columns)\n",
    "df_sorted = df[columns_sorted]\n",
    "print(df_sorted,'\\n')\n",
    "\n",
    "#열 이름을 기존 순서의 정반대 역순으로 정렬하기\n",
    "columns_reversed = list(reversed(columns))\n",
    "df_reversed = df[columns_reversed]\n",
    "print(df_reversed,'\\n')\n",
    "\n",
    "#열 이름을 사용자가 정의한 임의의 순서로 재배치하기\n",
    "columns_customed=['pclass','sex','age','survived']\n",
    "df_customed =df[columns_customed]\n",
    "print(df_customed)"
   ]
  },
  {
   "cell_type": "markdown",
   "id": "2bff2b0c",
   "metadata": {},
   "source": [
    "## 열 분리"
   ]
  },
  {
   "cell_type": "markdown",
   "id": "2dee8109",
   "metadata": {},
   "source": [
    "### 예제6-8. 열 분리하기"
   ]
  },
  {
   "cell_type": "code",
   "execution_count": 27,
   "id": "c31687de",
   "metadata": {},
   "outputs": [
    {
     "name": "stdout",
     "output_type": "stream",
     "text": [
      "         연월일   당일종가  전일종가     시가     고가     저가     거래량\n",
      "0 2018-07-02  10100   600  10850  10900  10000  137977\n",
      "1 2018-06-29  10700   300  10550  10900   9990  170253\n",
      "2 2018-06-28  10400   500  10900  10950  10150  155769\n",
      "3 2018-06-27  10900   100  10800  11050  10500  133548\n",
      "4 2018-06-26  10800   350  10900  11000  10700   63039 \n",
      "\n",
      "연월일     datetime64[ns]\n",
      "당일종가             int64\n",
      "전일종가             int64\n",
      "시가               int64\n",
      "고가               int64\n",
      "저가               int64\n",
      "거래량              int64\n",
      "dtype: object \n",
      "\n",
      "0    [2018, 07, 02]\n",
      "1    [2018, 06, 29]\n",
      "2    [2018, 06, 28]\n",
      "3    [2018, 06, 27]\n",
      "4    [2018, 06, 26]\n",
      "Name: 연월일, dtype: object \n",
      "\n",
      "          연월일   당일종가  전일종가     시가     고가     저가     거래량     연   월   일\n",
      "0  2018-07-02  10100   600  10850  10900  10000  137977  2018  07  02\n",
      "1  2018-06-29  10700   300  10550  10900   9990  170253  2018  06  29\n",
      "2  2018-06-28  10400   500  10900  10950  10150  155769  2018  06  28\n",
      "3  2018-06-27  10900   100  10800  11050  10500  133548  2018  06  27\n",
      "4  2018-06-26  10800   350  10900  11000  10700   63039  2018  06  26\n"
     ]
    }
   ],
   "source": [
    "#라이브러리 불러오기\n",
    "import pandas as pd\n",
    "\n",
    "#데이터셋 가져오기\n",
    "df = pd.read_excel('주가데이터.xlsx')\n",
    "print(df.head(),'\\n')\n",
    "print(df.dtypes,'\\n')\n",
    "\n",
    "#연,월,일 데이터 분리하기\n",
    "df['연월일']=df['연월일'].astype('str')\n",
    "dates=df['연월일'].str.split('-')\n",
    "print(dates.head(),'\\n')\n",
    "\n",
    "#분리된 정보를 각각 새로운 열에 담아 df에 추가하기\n",
    "df['연']=dates.str.get(0)\n",
    "df['월']=dates.str.get(1)\n",
    "df['일']=dates.str.get(2)\n",
    "print(df.head())"
   ]
  },
  {
   "cell_type": "markdown",
   "id": "7e7e6cda",
   "metadata": {},
   "source": [
    "# 필터링"
   ]
  },
  {
   "cell_type": "markdown",
   "id": "abe83e16",
   "metadata": {},
   "source": [
    "## 불린 인덱싱"
   ]
  },
  {
   "cell_type": "markdown",
   "id": "9816fa5f",
   "metadata": {},
   "source": [
    "## 예제 6-9. 불린 인덱싱"
   ]
  },
  {
   "cell_type": "code",
   "execution_count": 29,
   "id": "99636b8e",
   "metadata": {},
   "outputs": [
    {
     "name": "stdout",
     "output_type": "stream",
     "text": [
      "    survived  pclass     sex   age  sibsp  parch      fare embarked   class  \\\n",
      "9          1       2  female  14.0      1      0   30.0708        C  Second   \n",
      "14         0       3  female  14.0      0      0    7.8542        S   Third   \n",
      "22         1       3  female  15.0      0      0    8.0292        Q   Third   \n",
      "27         0       1    male  19.0      3      2  263.0000        S   First   \n",
      "38         0       3  female  18.0      2      0   18.0000        S   Third   \n",
      "\n",
      "      who  adult_male deck  embark_town alive  alone  \n",
      "9   child       False  NaN    Cherbourg   yes  False  \n",
      "14  child       False  NaN  Southampton    no   True  \n",
      "22  child       False  NaN   Queenstown   yes   True  \n",
      "27    man        True    C  Southampton    no  False  \n",
      "38  woman       False  NaN  Southampton    no  False  \n",
      "     survived  pclass     sex  age  sibsp  parch     fare embarked   class  \\\n",
      "10          1       3  female  4.0      1      1  16.7000        S   Third   \n",
      "24          0       3  female  8.0      3      1  21.0750        S   Third   \n",
      "43          1       2  female  3.0      1      2  41.5792        C  Second   \n",
      "58          1       2  female  5.0      1      2  27.7500        S  Second   \n",
      "119         0       3  female  2.0      4      2  31.2750        S   Third   \n",
      "\n",
      "       who  adult_male deck  embark_town alive  alone  \n",
      "10   child       False    G  Southampton   yes  False  \n",
      "24   child       False  NaN  Southampton    no  False  \n",
      "43   child       False  NaN    Cherbourg   yes  False  \n",
      "58   child       False  NaN  Southampton   yes  False  \n",
      "119  child       False  NaN  Southampton    no  False  \n",
      "Empty DataFrame\n",
      "Columns: [age, sex, alone]\n",
      "Index: []\n"
     ]
    }
   ],
   "source": [
    "#라이브러리 불러오기\n",
    "import seaborn as sns\n",
    "\n",
    "#titanic 데이터셋 로딩\n",
    "titanic=sns.load_dataset('titanic')\n",
    "\n",
    "#나이가 10대(10~19세)인 승객만 따로 선택\n",
    "mask1=(titanic.age>=10)&(titanic.age<20)\n",
    "df_teenage = titanic.loc[mask1,:]\n",
    "print(df_teenage.head())\n",
    "\n",
    "#나이가 10세 미만(0~9세)이고 여성인 승객만 따로 선택\n",
    "mask2=(titanic.age<10)&(titanic.sex=='female')\n",
    "df_female_under10=titanic.loc[mask2,:]\n",
    "print(df_female_under10.head())\n",
    "\n",
    "#나이가 10세 미만(0~9세) 또는 60세 이상인 승객의 age, sex, alone 열만 선택\n",
    "mask3=(titanic.age<10)&(titanic.age>=60)\n",
    "df_under10_morethan60=titanic.loc[mask3,['age','sex','alone']]\n",
    "print(df_under10_morethan60.head())"
   ]
  },
  {
   "cell_type": "markdown",
   "id": "3f16ac10",
   "metadata": {},
   "source": [
    "# 데이터프레임 합치기"
   ]
  },
  {
   "cell_type": "markdown",
   "id": "11a17da1",
   "metadata": {},
   "source": [
    "## 데이터프레임 연결"
   ]
  },
  {
   "cell_type": "markdown",
   "id": "241ce31c",
   "metadata": {},
   "source": [
    "### 예제 6-11. 데이터프레임 연결(concatenate)"
   ]
  },
  {
   "cell_type": "code",
   "execution_count": 33,
   "id": "2b60dae4",
   "metadata": {},
   "outputs": [
    {
     "name": "stdout",
     "output_type": "stream",
     "text": [
      "    a   b   c\n",
      "0  a0  b0  c0\n",
      "1  a1  b1  c1\n",
      "2  a2  b2  c2\n",
      "3  a3  b3  c3 \n",
      "\n",
      "    a   b   c   d\n",
      "2  a2  b2  c2  d2\n",
      "3  a3  b3  c3  d3\n",
      "4  a4  b4  c4  d4\n",
      "5  a5  b5  c5  d5 \n",
      "\n",
      "    a   b   c    d\n",
      "0  a0  b0  c0  NaN\n",
      "1  a1  b1  c1  NaN\n",
      "2  a2  b2  c2  NaN\n",
      "3  a3  b3  c3  NaN\n",
      "2  a2  b2  c2   d2\n",
      "3  a3  b3  c3   d3\n",
      "4  a4  b4  c4   d4\n",
      "5  a5  b5  c5   d5 \n",
      "\n",
      "    a   b   c    d\n",
      "0  a0  b0  c0  NaN\n",
      "1  a1  b1  c1  NaN\n",
      "2  a2  b2  c2  NaN\n",
      "3  a3  b3  c3  NaN\n",
      "4  a2  b2  c2   d2\n",
      "5  a3  b3  c3   d3\n",
      "6  a4  b4  c4   d4\n",
      "7  a5  b5  c5   d5 \n",
      "\n",
      "     a    b    c    a    b    c    d\n",
      "0   a0   b0   c0  NaN  NaN  NaN  NaN\n",
      "1   a1   b1   c1  NaN  NaN  NaN  NaN\n",
      "2   a2   b2   c2   a2   b2   c2   d2\n",
      "3   a3   b3   c3   a3   b3   c3   d3\n",
      "4  NaN  NaN  NaN   a4   b4   c4   d4\n",
      "5  NaN  NaN  NaN   a5   b5   c5   d5 \n",
      "\n",
      "    a   b   c   a   b   c   d\n",
      "2  a2  b2  c2  a2  b2  c2  d2\n",
      "3  a3  b3  c3  a3  b3  c3  d3 \n",
      "\n",
      "    a   b   c   e\n",
      "0  a0  b0  c0  e0\n",
      "1  a1  b1  c1  e1\n",
      "2  a2  b2  c2  e2\n",
      "3  a3  b3  c3  e3 \n",
      "\n",
      "    a   b   c   d    f\n",
      "2  a2  b2  c2  d2  NaN\n",
      "3  a3  b3  c3  d3   f0\n",
      "4  a4  b4  c4  d4   f1\n",
      "5  a5  b5  c5  d5   f2 \n",
      "\n",
      "    e   g\n",
      "0  e0  g0\n",
      "1  e1  g1\n",
      "2  e2  g2\n",
      "3  e3  g3 \n",
      "\n",
      "0    e0\n",
      "1    e1\n",
      "2    e2\n",
      "3    e3\n",
      "0    g0\n",
      "1    g1\n",
      "2    g2\n",
      "3    g3\n",
      "dtype: object \n",
      "\n"
     ]
    }
   ],
   "source": [
    "#라이브러리 불러오기\n",
    "import pandas as pd\n",
    "\n",
    "#데이터프레임 만들기\n",
    "df1 = pd.DataFrame({'a':['a0','a1','a2','a3'],\n",
    "                    'b':['b0','b1','b2','b3'],\n",
    "                    'c':['c0','c1','c2','c3']},index=[0,1,2,3])\n",
    "df2 = pd.DataFrame({'a':['a2','a3','a4','a5'],\n",
    "                    'b':['b2','b3','b4','b5'],\n",
    "                    'c':['c2','c3','c4','c5'],\n",
    "                    'd':['d2','d3','d4','d5']},index=[2,3,4,5])\n",
    "\n",
    "print(df1,'\\n')\n",
    "print(df2,'\\n')\n",
    "\n",
    "#2개의 데이터프레임을 위 아래 행 방향으로 이어 붙이듯 연결하기\n",
    "result1 = pd.concat([df1,df2])\n",
    "print(result1, '\\n')\n",
    "\n",
    "#ignore_index=True 옵션 설정하기\n",
    "result2 = pd.concat([df1,df2],ignore_index=True)\n",
    "print(result2, '\\n')\n",
    "\n",
    "#2개의 데이터프레임을 좌우 열 방향으로 이어 붙이듯 연결하기\n",
    "result3 = pd.concat([df1,df2],axis=1)\n",
    "print(result3,'\\n')\n",
    "\n",
    "#join='inner'옵션 적용하기(교집합)\n",
    "result3_in=pd.concat([df1,df2],axis=1,join='inner')\n",
    "print(result3_in, '\\n')\n",
    "\n",
    "#시리즈 만들기\n",
    "sr1=pd.Series(['e0','e1','e2','e3'],name='e')\n",
    "sr2=pd.Series(['f0','f1','f2'],name='f',index=[3,4,5])\n",
    "sr3=pd.Series(['g0','g1','g2','g3'],name='g')\n",
    "\n",
    "#df1과 sr1을 좌우 열 방향으로 연결하기\n",
    "result4=pd.concat([df1,sr1],axis=1)\n",
    "print(result4,'\\n')\n",
    "\n",
    "#df2과 sr2을 좌우 열 방향으로 연결하기\n",
    "result5=pd.concat([df2,sr2],axis=1,sort=True)\n",
    "print(result5,'\\n')\n",
    "\n",
    "#sr1과 sr3을 좌우 열 방향으로 연결하기\n",
    "result6=pd.concat([sr1,sr3],axis=1)\n",
    "print(result6,'\\n')\n",
    "\n",
    "result7=pd.concat([sr1,sr3],axis=0)\n",
    "print(result7,'\\n')"
   ]
  },
  {
   "cell_type": "markdown",
   "id": "3ed4392a",
   "metadata": {},
   "source": [
    "# 그룹 연산"
   ]
  },
  {
   "cell_type": "markdown",
   "id": "2a260d3a",
   "metadata": {},
   "source": [
    "## 그룹 객체 만들기(분할 단계)"
   ]
  },
  {
   "cell_type": "markdown",
   "id": "49c637b5",
   "metadata": {},
   "source": [
    "### 예제 6-14. 그룹 연산-분할"
   ]
  },
  {
   "cell_type": "code",
   "execution_count": 41,
   "id": "68dcc757",
   "metadata": {},
   "outputs": [
    {
     "name": "stdout",
     "output_type": "stream",
     "text": [
      "승객 수: 891\n",
      "    age     sex  class     fare  survived\n",
      "0  22.0    male  Third   7.2500         0\n",
      "1  38.0  female  First  71.2833         1\n",
      "2  26.0  female  Third   7.9250         1\n",
      "3  35.0  female  First  53.1000         1\n",
      "4  35.0    male  Third   8.0500         0\n",
      "\n",
      "\n",
      "<pandas.core.groupby.generic.DataFrameGroupBy object at 0x000001E18C141490>\n",
      "******************\n",
      "* key: First\n",
      "* number: 216\n",
      "<bound method NDFrame.head of       age     sex  class     fare  survived\n",
      "1    38.0  female  First  71.2833         1\n",
      "3    35.0  female  First  53.1000         1\n",
      "6    54.0    male  First  51.8625         0\n",
      "11   58.0  female  First  26.5500         1\n",
      "23   28.0    male  First  35.5000         1\n",
      "..    ...     ...    ...      ...       ...\n",
      "871  47.0  female  First  52.5542         1\n",
      "872  33.0    male  First   5.0000         0\n",
      "879  56.0  female  First  83.1583         1\n",
      "887  19.0  female  First  30.0000         1\n",
      "889  26.0    male  First  30.0000         1\n",
      "\n",
      "[216 rows x 5 columns]>\n",
      "\n",
      "\n",
      "* key: Second\n",
      "* number: 184\n",
      "<bound method NDFrame.head of       age     sex   class     fare  survived\n",
      "9    14.0  female  Second  30.0708         1\n",
      "15   55.0  female  Second  16.0000         1\n",
      "17    NaN    male  Second  13.0000         1\n",
      "20   35.0    male  Second  26.0000         0\n",
      "21   34.0    male  Second  13.0000         1\n",
      "..    ...     ...     ...      ...       ...\n",
      "866  27.0  female  Second  13.8583         1\n",
      "874  28.0  female  Second  24.0000         1\n",
      "880  25.0  female  Second  26.0000         1\n",
      "883  28.0    male  Second  10.5000         0\n",
      "886  27.0    male  Second  13.0000         0\n",
      "\n",
      "[184 rows x 5 columns]>\n",
      "\n",
      "\n",
      "* key: Third\n",
      "* number: 491\n",
      "<bound method NDFrame.head of       age     sex  class     fare  survived\n",
      "0    22.0    male  Third   7.2500         0\n",
      "2    26.0  female  Third   7.9250         1\n",
      "4    35.0    male  Third   8.0500         0\n",
      "5     NaN    male  Third   8.4583         0\n",
      "7     2.0    male  Third  21.0750         0\n",
      "..    ...     ...    ...      ...       ...\n",
      "882  22.0  female  Third  10.5167         0\n",
      "884  25.0    male  Third   7.0500         0\n",
      "885  39.0  female  Third  29.1250         0\n",
      "888   NaN  female  Third  23.4500         0\n",
      "890  32.0    male  Third   7.7500         0\n",
      "\n",
      "[491 rows x 5 columns]>\n",
      "\n",
      "\n",
      "              age       fare  survived\n",
      "class                                 \n",
      "First   38.233441  84.154687  0.629630\n",
      "Second  29.877630  20.662183  0.472826\n",
      "Third   25.140620  13.675550  0.242363\n",
      "    age     sex  class     fare  survived\n",
      "0  22.0    male  Third   7.2500         0\n",
      "2  26.0  female  Third   7.9250         1\n",
      "4  35.0    male  Third   8.0500         0\n",
      "5   NaN    male  Third   8.4583         0\n",
      "7   2.0    male  Third  21.0750         0\n",
      "* key: ('First', 'female')\n",
      "* number: 94\n",
      "<bound method NDFrame.head of       age     sex  class      fare  survived\n",
      "1    38.0  female  First   71.2833         1\n",
      "3    35.0  female  First   53.1000         1\n",
      "11   58.0  female  First   26.5500         1\n",
      "31    NaN  female  First  146.5208         1\n",
      "52   49.0  female  First   76.7292         1\n",
      "..    ...     ...    ...       ...       ...\n",
      "856  45.0  female  First  164.8667         1\n",
      "862  48.0  female  First   25.9292         1\n",
      "871  47.0  female  First   52.5542         1\n",
      "879  56.0  female  First   83.1583         1\n",
      "887  19.0  female  First   30.0000         1\n",
      "\n",
      "[94 rows x 5 columns]>\n",
      "\n",
      "\n",
      "* key: ('First', 'male')\n",
      "* number: 122\n",
      "<bound method NDFrame.head of       age   sex  class      fare  survived\n",
      "6    54.0  male  First   51.8625         0\n",
      "23   28.0  male  First   35.5000         1\n",
      "27   19.0  male  First  263.0000         0\n",
      "30   40.0  male  First   27.7208         0\n",
      "34   28.0  male  First   82.1708         0\n",
      "..    ...   ...    ...       ...       ...\n",
      "839   NaN  male  First   29.7000         1\n",
      "857  51.0  male  First   26.5500         1\n",
      "867  31.0  male  First   50.4958         0\n",
      "872  33.0  male  First    5.0000         0\n",
      "889  26.0  male  First   30.0000         1\n",
      "\n",
      "[122 rows x 5 columns]>\n",
      "\n",
      "\n",
      "* key: ('Second', 'female')\n",
      "* number: 76\n",
      "<bound method NDFrame.head of       age     sex   class     fare  survived\n",
      "9    14.0  female  Second  30.0708         1\n",
      "15   55.0  female  Second  16.0000         1\n",
      "41   27.0  female  Second  21.0000         0\n",
      "43    3.0  female  Second  41.5792         1\n",
      "53   29.0  female  Second  26.0000         1\n",
      "..    ...     ...     ...      ...       ...\n",
      "854  44.0  female  Second  26.0000         0\n",
      "865  42.0  female  Second  13.0000         1\n",
      "866  27.0  female  Second  13.8583         1\n",
      "874  28.0  female  Second  24.0000         1\n",
      "880  25.0  female  Second  26.0000         1\n",
      "\n",
      "[76 rows x 5 columns]>\n",
      "\n",
      "\n",
      "* key: ('Second', 'male')\n",
      "* number: 108\n",
      "<bound method NDFrame.head of       age   sex   class  fare  survived\n",
      "17    NaN  male  Second  13.0         1\n",
      "20   35.0  male  Second  26.0         0\n",
      "21   34.0  male  Second  13.0         1\n",
      "33   66.0  male  Second  10.5         0\n",
      "70   32.0  male  Second  10.5         0\n",
      "..    ...   ...     ...   ...       ...\n",
      "848  28.0  male  Second  33.0         0\n",
      "861  21.0  male  Second  11.5         0\n",
      "864  24.0  male  Second  13.0         0\n",
      "883  28.0  male  Second  10.5         0\n",
      "886  27.0  male  Second  13.0         0\n",
      "\n",
      "[108 rows x 5 columns]>\n",
      "\n",
      "\n",
      "* key: ('Third', 'female')\n",
      "* number: 144\n",
      "<bound method NDFrame.head of       age     sex  class     fare  survived\n",
      "2    26.0  female  Third   7.9250         1\n",
      "8    27.0  female  Third  11.1333         1\n",
      "10    4.0  female  Third  16.7000         1\n",
      "14   14.0  female  Third   7.8542         0\n",
      "18   31.0  female  Third  18.0000         0\n",
      "..    ...     ...    ...      ...       ...\n",
      "863   NaN  female  Third  69.5500         0\n",
      "875  15.0  female  Third   7.2250         1\n",
      "882  22.0  female  Third  10.5167         0\n",
      "885  39.0  female  Third  29.1250         0\n",
      "888   NaN  female  Third  23.4500         0\n",
      "\n",
      "[144 rows x 5 columns]>\n",
      "\n",
      "\n",
      "* key: ('Third', 'male')\n",
      "* number: 347\n",
      "<bound method NDFrame.head of       age   sex  class     fare  survived\n",
      "0    22.0  male  Third   7.2500         0\n",
      "4    35.0  male  Third   8.0500         0\n",
      "5     NaN  male  Third   8.4583         0\n",
      "7     2.0  male  Third  21.0750         0\n",
      "12   20.0  male  Third   8.0500         0\n",
      "..    ...   ...    ...      ...       ...\n",
      "877  19.0  male  Third   7.8958         0\n",
      "878   NaN  male  Third   7.8958         0\n",
      "881  33.0  male  Third   7.8958         0\n",
      "884  25.0  male  Third   7.0500         0\n",
      "890  32.0  male  Third   7.7500         0\n",
      "\n",
      "[347 rows x 5 columns]>\n",
      "\n",
      "\n",
      "                     age        fare  survived\n",
      "class  sex                                    \n",
      "First  female  34.611765  106.125798  0.968085\n",
      "       male    41.281386   67.226127  0.368852\n",
      "Second female  28.722973   21.970121  0.921053\n",
      "       male    30.740707   19.741782  0.157407\n",
      "Third  female  21.750000   16.118810  0.500000\n",
      "       male    26.507589   12.661633  0.135447\n",
      "\n",
      "\n",
      "<class 'pandas.core.frame.DataFrame'>\n"
     ]
    },
    {
     "ename": "NameError",
     "evalue": "name 'group3f' is not defined",
     "output_type": "error",
     "traceback": [
      "\u001b[1;31m---------------------------------------------------------------------------\u001b[0m",
      "\u001b[1;31mNameError\u001b[0m                                 Traceback (most recent call last)",
      "\u001b[1;32m<ipython-input-41-275dc2091dc8>\u001b[0m in \u001b[0;36m<module>\u001b[1;34m\u001b[0m\n\u001b[0;32m     49\u001b[0m \u001b[1;31m#grouped_two 그룹 객체에서 개별 그룹 선택하기\u001b[0m\u001b[1;33m\u001b[0m\u001b[1;33m\u001b[0m\u001b[1;33m\u001b[0m\u001b[0m\n\u001b[0;32m     50\u001b[0m \u001b[0mgrounp3f\u001b[0m\u001b[1;33m=\u001b[0m\u001b[0mgrouped_two\u001b[0m\u001b[1;33m.\u001b[0m\u001b[0mget_group\u001b[0m\u001b[1;33m(\u001b[0m\u001b[1;33m(\u001b[0m\u001b[1;34m'Third'\u001b[0m\u001b[1;33m,\u001b[0m\u001b[1;34m'female'\u001b[0m\u001b[1;33m)\u001b[0m\u001b[1;33m)\u001b[0m\u001b[1;33m\u001b[0m\u001b[1;33m\u001b[0m\u001b[0m\n\u001b[1;32m---> 51\u001b[1;33m \u001b[0mprint\u001b[0m\u001b[1;33m(\u001b[0m\u001b[0mgroup3f\u001b[0m\u001b[1;33m.\u001b[0m\u001b[0mhead\u001b[0m\u001b[1;33m(\u001b[0m\u001b[1;33m)\u001b[0m\u001b[1;33m)\u001b[0m\u001b[1;33m\u001b[0m\u001b[1;33m\u001b[0m\u001b[0m\n\u001b[0m",
      "\u001b[1;31mNameError\u001b[0m: name 'group3f' is not defined"
     ]
    }
   ],
   "source": [
    "#라이브러리 불러오기\n",
    "import pandas as pd\n",
    "import seaborn as sns\n",
    "\n",
    "#titanic 데이터셋에서 age,sex 등 5개 열을 선택 데이터프레임 만드릭\n",
    "titanic=sns.load_dataset('titanic')\n",
    "df=titanic.loc[:,['age','sex','class','fare','survived']]\n",
    "\n",
    "print('승객 수:',len(df))\n",
    "print(df.head())\n",
    "print('\\n')\n",
    "\n",
    "#class 열을 기준으로 분할\n",
    "grouped=df.groupby(['class'])\n",
    "print(grouped)\n",
    "\n",
    "print('******************')\n",
    "#그룹 객체를 iteration으로 출력: head() 메소드로 첫 5행만을 출력\n",
    "for key,group in grouped:\n",
    "    print('* key:',key)\n",
    "    print('* number:',len(group))\n",
    "    print(group.head)\n",
    "    print('\\n')\n",
    "    \n",
    "#연산 메소드 적용\n",
    "average = grouped.mean()\n",
    "print(average)\n",
    "\n",
    "#개별 그룹 선택하기\n",
    "group3=grouped.get_group('Third')\n",
    "print(group3.head())\n",
    "\n",
    "#class 열, sex열을 기준으로 분할\n",
    "grouped_two=df.groupby(['class','sex'])\n",
    "\n",
    "#grouped_two 그룹 객체를 iteration으로 출력\n",
    "for key,group in grouped_two:\n",
    "    print('* key:',key)\n",
    "    print('* number:',len(group))\n",
    "    print(group.head)\n",
    "    print('\\n')\n",
    "    \n",
    "#grouped_two 그룹 객체에 연산 메소드 적용\n",
    "average_two=grouped_two.mean()\n",
    "print(average_two)\n",
    "print('\\n')\n",
    "print(type(average_two))\n",
    "\n",
    "#grouped_two 그룹 객체에서 개별 그룹 선택하기\n",
    "grounp3f=grouped_two.get_group(('Third','female'))\n",
    "print(group3f.head())"
   ]
  },
  {
   "cell_type": "markdown",
   "id": "e87369c8",
   "metadata": {},
   "source": [
    "## 그룹 연산 메소드(적용-결합 단계)"
   ]
  },
  {
   "cell_type": "markdown",
   "id": "87f5ebc9",
   "metadata": {},
   "source": [
    "### 예제 6-15. 데이터집계"
   ]
  },
  {
   "cell_type": "code",
   "execution_count": 44,
   "id": "37c6f140",
   "metadata": {},
   "outputs": [
    {
     "name": "stdout",
     "output_type": "stream",
     "text": [
      "              age       fare  survived\n",
      "class                                 \n",
      "First   14.802856  78.380373  0.484026\n",
      "Second  14.001077  13.417399  0.500623\n",
      "Third   12.495398  11.778142  0.428949\n",
      "\n",
      "\n",
      "<class 'pandas.core.frame.DataFrame'>\n",
      "\n",
      "\n",
      "class\n",
      "First     78.380373\n",
      "Second    13.417399\n",
      "Third     11.778142\n",
      "Name: fare, dtype: float64\n",
      "\n",
      "\n",
      "<class 'pandas.core.series.Series'>\n"
     ]
    }
   ],
   "source": [
    "#라이브러리 불러오기\n",
    "import pandas as pd\n",
    "import seaborn as sns\n",
    "\n",
    "#titanic 데이터셋에서 age,sex 등 5개의 열을 선택하여 데이터프레임 만들기\n",
    "titanic=sns.load_dataset('titanic')\n",
    "df=titanic.loc[:,['age','sex','class','fare','survived']]\n",
    "\n",
    "#class 열을 기준으로 분할\n",
    "grouped=df.groupby(['class'])\n",
    "\n",
    "#각 그룹에 대한 모든 열의 표준편차를 집계하여 데이터프레임으로 변환\n",
    "std_all=grouped.std()\n",
    "print(std_all)\n",
    "print('\\n')\n",
    "print(type(std_all))\n",
    "print('\\n')\n",
    "\n",
    "#각 그룹에 대한 fare 열이 표준편차를 집계하여 시리즈로 변환\n",
    "std_fare=grouped.fare.std()\n",
    "print(std_fare)\n",
    "print('\\n')\n",
    "print(type(std_fare))"
   ]
  },
  {
   "cell_type": "code",
   "execution_count": null,
   "id": "fc2d7dae",
   "metadata": {},
   "outputs": [],
   "source": []
  }
 ],
 "metadata": {
  "kernelspec": {
   "display_name": "Python 3",
   "language": "python",
   "name": "python3"
  },
  "language_info": {
   "codemirror_mode": {
    "name": "ipython",
    "version": 3
   },
   "file_extension": ".py",
   "mimetype": "text/x-python",
   "name": "python",
   "nbconvert_exporter": "python",
   "pygments_lexer": "ipython3",
   "version": "3.8.8"
  },
  "toc": {
   "base_numbering": 1,
   "nav_menu": {},
   "number_sections": true,
   "sideBar": true,
   "skip_h1_title": false,
   "title_cell": "Table of Contents",
   "title_sidebar": "Contents",
   "toc_cell": false,
   "toc_position": {},
   "toc_section_display": true,
   "toc_window_display": false
  }
 },
 "nbformat": 4,
 "nbformat_minor": 5
}
